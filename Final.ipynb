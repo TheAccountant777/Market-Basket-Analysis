{
 "cells": [
  {
   "cell_type": "markdown",
   "metadata": {
    "id": "ZdhFDx0H09SA"
   },
   "source": [
    "# Product analysis - BenNanna Bakery\n",
    "\n",
    "The client is intrested mainly in understanding relationships between items. In this task our objective is to mine for these relationships using 5 years of transactional data and by leveraging the Apriori algorithim.\n",
    "\n",
    "**The process:**  \n",
    "1st - Clean the data.  \n",
    "2nd - Exploratory Data Analysis.  \n",
    "3rd - Market Basket Analysis.  "
   ]
  },
  {
   "cell_type": "code",
   "execution_count": 129,
   "metadata": {
    "id": "93TMddmV09SK"
   },
   "outputs": [],
   "source": [
    "# Libraries import\n",
    "import pandas as pd\n",
    "import numpy as np\n",
    "import seaborn as sns\n",
    "import matplotlib.pyplot as plt\n",
    "import missingno as msno\n",
    "import pandas_profiling\n",
    "import datetime as dt\n",
    "import re\n",
    "import warnings\n",
    "warnings.filterwarnings('ignore')"
   ]
  },
  {
   "cell_type": "code",
   "execution_count": 89,
   "metadata": {
    "id": "Ow3BV7KG09SM"
   },
   "outputs": [],
   "source": [
    "# Creare a variable containing a dataframe with the data\n",
    "df = pd.read_csv('Items-2016-2020.csv')"
   ]
  },
  {
   "cell_type": "code",
   "execution_count": 90,
   "metadata": {
    "colab": {
     "base_uri": "https://localhost:8080/",
     "height": 204
    },
    "id": "uluKQWl-09SN",
    "outputId": "07ac38cb-39fd-4a9e-de8f-6fecdccac3aa"
   },
   "outputs": [
    {
     "data": {
      "text/html": [
       "<div>\n",
       "<style scoped>\n",
       "    .dataframe tbody tr th:only-of-type {\n",
       "        vertical-align: middle;\n",
       "    }\n",
       "\n",
       "    .dataframe tbody tr th {\n",
       "        vertical-align: top;\n",
       "    }\n",
       "\n",
       "    .dataframe thead th {\n",
       "        text-align: right;\n",
       "    }\n",
       "</style>\n",
       "<table border=\"1\" class=\"dataframe\">\n",
       "  <thead>\n",
       "    <tr style=\"text-align: right;\">\n",
       "      <th></th>\n",
       "      <th>Date</th>\n",
       "      <th>Time</th>\n",
       "      <th>Category</th>\n",
       "      <th>Item</th>\n",
       "      <th>Qty</th>\n",
       "      <th>Transaction ID</th>\n",
       "    </tr>\n",
       "  </thead>\n",
       "  <tbody>\n",
       "    <tr>\n",
       "      <th>0</th>\n",
       "      <td>12/31/16</td>\n",
       "      <td>23:57:24</td>\n",
       "      <td>Breads</td>\n",
       "      <td>Swiss White</td>\n",
       "      <td>2</td>\n",
       "      <td>fdnGVxRa2XBw7Fnx8gtVqhxeV</td>\n",
       "    </tr>\n",
       "    <tr>\n",
       "      <th>1</th>\n",
       "      <td>12/31/16</td>\n",
       "      <td>23:57:24</td>\n",
       "      <td>Specialty</td>\n",
       "      <td>Oliebollen</td>\n",
       "      <td>1</td>\n",
       "      <td>fdnGVxRa2XBw7Fnx8gtVqhxeV</td>\n",
       "    </tr>\n",
       "    <tr>\n",
       "      <th>2</th>\n",
       "      <td>12/31/16</td>\n",
       "      <td>23:56:19</td>\n",
       "      <td>Specialty</td>\n",
       "      <td>Oliebollen</td>\n",
       "      <td>1</td>\n",
       "      <td>V4ri6t97vjyCzA7IdEQRyCleV</td>\n",
       "    </tr>\n",
       "    <tr>\n",
       "      <th>3</th>\n",
       "      <td>12/31/16</td>\n",
       "      <td>23:54:09</td>\n",
       "      <td>Specialty</td>\n",
       "      <td>Oliebollen</td>\n",
       "      <td>1</td>\n",
       "      <td>RS1iJSk5N0CWNwrfKBhvKW4eV</td>\n",
       "    </tr>\n",
       "    <tr>\n",
       "      <th>4</th>\n",
       "      <td>12/31/16</td>\n",
       "      <td>23:52:46</td>\n",
       "      <td>Specialty</td>\n",
       "      <td>Oliebollen</td>\n",
       "      <td>1</td>\n",
       "      <td>b7V19z0TRWRpafHX8PCBzn0eV</td>\n",
       "    </tr>\n",
       "  </tbody>\n",
       "</table>\n",
       "</div>"
      ],
      "text/plain": [
       "       Date      Time   Category         Item  Qty             Transaction ID\n",
       "0  12/31/16  23:57:24     Breads  Swiss White    2  fdnGVxRa2XBw7Fnx8gtVqhxeV\n",
       "1  12/31/16  23:57:24  Specialty   Oliebollen    1  fdnGVxRa2XBw7Fnx8gtVqhxeV\n",
       "2  12/31/16  23:56:19  Specialty   Oliebollen    1  V4ri6t97vjyCzA7IdEQRyCleV\n",
       "3  12/31/16  23:54:09  Specialty   Oliebollen    1  RS1iJSk5N0CWNwrfKBhvKW4eV\n",
       "4  12/31/16  23:52:46  Specialty   Oliebollen    1  b7V19z0TRWRpafHX8PCBzn0eV"
      ]
     },
     "execution_count": 90,
     "metadata": {
      "tags": []
     },
     "output_type": "execute_result"
    }
   ],
   "source": [
    "# Print the first 5 rows of data\n",
    "df.head()"
   ]
  },
  {
   "cell_type": "code",
   "execution_count": 91,
   "metadata": {
    "colab": {
     "base_uri": "https://localhost:8080/"
    },
    "id": "8JAav5-C09SP",
    "outputId": "12792306-7d41-42ab-a245-1adedd0ce59b"
   },
   "outputs": [
    {
     "data": {
      "text/plain": [
       "(421189, 6)"
      ]
     },
     "execution_count": 91,
     "metadata": {
      "tags": []
     },
     "output_type": "execute_result"
    }
   ],
   "source": [
    "df.shape"
   ]
  },
  {
   "cell_type": "markdown",
   "metadata": {
    "id": "FaOBN1No09SP"
   },
   "source": [
    "We have managed to load in our data, the data contains 421189 rows and 6 columns. This data was extracted from the client POS software and filterd to only contain columns that are of intrest to the analysis. We will procede to clean the data."
   ]
  },
  {
   "cell_type": "markdown",
   "metadata": {
    "id": "2_DwQpc_09SQ"
   },
   "source": [
    "# Data Cleaning"
   ]
  },
  {
   "cell_type": "markdown",
   "metadata": {
    "id": "0_aIGuqI09SQ"
   },
   "source": [
    "What do we intend to achieve with data cleaning ? Its important that the data is sane, in the sense that we do not have multiple names for the same product, multiple names for the same category, we do not have missing values and duplicated values. After we are happy that the data is in good condition we may proceed with the analysis."
   ]
  },
  {
   "cell_type": "markdown",
   "metadata": {
    "id": "RVPhIhQA09SR"
   },
   "source": [
    "## Categories"
   ]
  },
  {
   "cell_type": "code",
   "execution_count": 92,
   "metadata": {
    "colab": {
     "base_uri": "https://localhost:8080/"
    },
    "id": "McMsGvF609SR",
    "outputId": "75ebd199-42b2-4526-e300-1f48dd501e90"
   },
   "outputs": [
    {
     "data": {
      "text/plain": [
       "array(['Breads', 'Specialty', 'Buns', 'Puff Pastry', 'Pastry', 'Cookie',\n",
       "       'Cakes', 'Frozen', 'Whole Sale', 'Baking supplies ', 'None',\n",
       "       'Seasonal', 'Promotion', 'Lunch', 'Cakes and Pies',\n",
       "       'Cakes &amp; Pies', 'Courses', 'Cakes & Pies', 'Sourdough',\n",
       "       'Dairy', 'Online Store'], dtype=object)"
      ]
     },
     "execution_count": 92,
     "metadata": {
      "tags": []
     },
     "output_type": "execute_result"
    }
   ],
   "source": [
    "# List of unique categories\n",
    "df['Category'].unique()"
   ]
  },
  {
   "cell_type": "code",
   "execution_count": 93,
   "metadata": {
    "id": "G8gaUybi09ST"
   },
   "outputs": [],
   "source": [
    "# Correct misspelled category names\n",
    "df['Category'].replace('Cakes &amp; Pies', 'Cakes & Pies', inplace = True)\n",
    "df['Category'].replace('Cakes and Pies', 'Cakes & Pies', inplace = True)\n",
    "df['Category'].replace('Cakes', 'Cakes & Pies', inplace = True)\n",
    "df['Category'] = df['Category'].str.strip()"
   ]
  },
  {
   "cell_type": "code",
   "execution_count": 94,
   "metadata": {
    "colab": {
     "base_uri": "https://localhost:8080/"
    },
    "id": "ielceuFQ09SU",
    "outputId": "73be053e-7062-4dcc-dd34-4ea7a3caeff5"
   },
   "outputs": [
    {
     "data": {
      "text/plain": [
       "Pastry             192302\n",
       "Breads              64018\n",
       "Buns                42090\n",
       "Sourdough           28326\n",
       "Cakes & Pies        22395\n",
       "Puff Pastry         17343\n",
       "Specialty           16736\n",
       "Cookie              15669\n",
       "Promotion            6211\n",
       "Frozen               5603\n",
       "None                 3713\n",
       "Seasonal             3640\n",
       "Baking supplies      2705\n",
       "Whole Sale            218\n",
       "Dairy                 177\n",
       "Online Store           23\n",
       "Courses                12\n",
       "Lunch                   8\n",
       "Name: Category, dtype: int64"
      ]
     },
     "execution_count": 94,
     "metadata": {
      "tags": []
     },
     "output_type": "execute_result"
    }
   ],
   "source": [
    "df['Category'].value_counts()"
   ]
  },
  {
   "cell_type": "markdown",
   "metadata": {
    "id": "0e_252Hw09SX"
   },
   "source": [
    "Categories are unique and clean, we can proceed to items."
   ]
  },
  {
   "cell_type": "markdown",
   "metadata": {
    "id": "Yq64yHah09SY"
   },
   "source": [
    "## Items"
   ]
  },
  {
   "cell_type": "code",
   "execution_count": 95,
   "metadata": {
    "colab": {
     "base_uri": "https://localhost:8080/"
    },
    "id": "NmGni57f09SY",
    "outputId": "13784fb7-5edb-4c4c-f276-f1e6c29a365d"
   },
   "outputs": [
    {
     "data": {
      "text/plain": [
       "688"
      ]
     },
     "execution_count": 95,
     "metadata": {
      "tags": []
     },
     "output_type": "execute_result"
    }
   ],
   "source": [
    "df['Item'].nunique()"
   ]
  },
  {
   "cell_type": "markdown",
   "metadata": {
    "id": "NrRYDtbg09SZ"
   },
   "source": [
    "We have 688 unique items, i exported the whole list to an excel file to determine which items should be droped and found out the following:  \n",
    "* We have items that contain (Voided) word, after consulting with the client we find out that these are canceled transactions. So we will remove all items that contaian the word voided in the name.  \n",
    "* We have rows that contain promotional items, these contain the word voucher and should be removed.\n",
    "* Some items have duplicated names, example coffee bars and coffee bar for the same item. These should be corrected."
   ]
  },
  {
   "cell_type": "code",
   "execution_count": 96,
   "metadata": {
    "colab": {
     "base_uri": "https://localhost:8080/"
    },
    "id": "dXKmRr8j09Sb",
    "outputId": "ff6b403a-de9f-423a-a525-84c400582c7b"
   },
   "outputs": [
    {
     "name": "stdout",
     "output_type": "stream",
     "text": [
      "Void Items: 735\n",
      "Rows before droping voided: 421189\n",
      "Rows after droping 735 vodied products: 420454\n"
     ]
    }
   ],
   "source": [
    "# Remove void items\n",
    "void_index = df.loc[df['Item'].str.contains('(Voided)')].index\n",
    "print('Void Items: {}'.format(len(void_index)))\n",
    "print('Rows before droping voided: {}'.format(df.shape[0]))\n",
    "df.drop(void_index, axis = 0, inplace = True)\n",
    "print(f'Rows after droping {len(void_index)} vodied products: {df.shape[0]}')"
   ]
  },
  {
   "cell_type": "code",
   "execution_count": 97,
   "metadata": {
    "colab": {
     "base_uri": "https://localhost:8080/"
    },
    "id": "lrxUt2fq09Sc",
    "outputId": "f6f6f783-c4fd-4878-ee40-b929e290fe1c"
   },
   "outputs": [
    {
     "name": "stdout",
     "output_type": "stream",
     "text": [
      "Void Items: 266\n",
      "Rows before droping voucher: 420454\n",
      "Rows after droping 266 vodied products: 420188\n"
     ]
    }
   ],
   "source": [
    "# Remove voucher items\n",
    "voucher_index = df.loc[df['Item'].str.contains('(Voucher)')].index\n",
    "print('Void Items: {}'.format(len(voucher_index)))\n",
    "print('Rows before droping voucher: {}'.format(df.shape[0]))\n",
    "df.drop(voucher_index, axis = 0, inplace = True)\n",
    "print('Rows after droping 266 vodied products: {}'.format(df.shape[0]))"
   ]
  },
  {
   "cell_type": "code",
   "execution_count": 98,
   "metadata": {
    "id": "XB0BbHRZ09Se"
   },
   "outputs": [],
   "source": [
    "# Remove leading spaces and change capitlization\n",
    "df['Item'] = df['Item'].str.strip()\n",
    "df['Item'] = df['Item'].str.lower()"
   ]
  },
  {
   "cell_type": "code",
   "execution_count": 99,
   "metadata": {
    "id": "xfzNLYth09Sf"
   },
   "outputs": [],
   "source": [
    "# Create dictionar with items to replace\n",
    "replace = {\n",
    "    'bananna ã‰clair':'banana eclair','banana ã‰clair':'banana eclair','bienenstich torte - saturday feature':'bienenstich torte',\n",
    "    'chocolate ã‰clair':'chocolate eclair', 'coffee bars':'coffee bar', 'fresh fruit whipping cream cake':'fresh fruit whipped cream cake',\n",
    "    'ind oliebollen':'oliebollen','large baguetles':'large baguettes', 'mocha puffs':'mocha puff',\n",
    "    'oliebollen individual' : 'oliebollen', 'over-the-top chocolate cake':'over the top chocolate cake', 'raspberry mousse' : 'rasberry mousse',\n",
    "    'rosemary/oliveoil' : 'rosemary & olive oil', 'sausage roll':'sausage rolls', 'serious coconut': 'serious coconut tart',\n",
    "    'sour dough' : 'sourdough', 'vanilla slices' : 'vanilla slice', 'bananna cream': 'bananna cream tart','benanna cream' : 'benanna cream cup',\n",
    "    'lemon tarts' : 'lemon tart', 'mocha cake variable' : 'mocha cake', 'ã‰clair' : 'chocolate eclair',\n",
    "    'chilliwack coconut loonie': 'coconut loonie', 'chwk coconut loonie' : 'coconut loonie',\n",
    "    'choc cream puff' : 'chocolate cream puff','black forest variable':'black forest cake','puff pastry squares (6) frozen':'puff pastry frozen',\n",
    "     'tiger logs' : 'tiger log', 'individual cookies': 'cookies'}"
   ]
  },
  {
   "cell_type": "code",
   "execution_count": 100,
   "metadata": {
    "colab": {
     "base_uri": "https://localhost:8080/"
    },
    "id": "taCs1jQR09Sg",
    "outputId": "65ee1dd3-8ec7-47fc-c5dd-7ce6d6a5c561"
   },
   "outputs": [
    {
     "data": {
      "text/plain": [
       "vanilla slice          22806\n",
       "turnover               19204\n",
       "new yorker             12074\n",
       "rasberry mousse        11155\n",
       "raisin buns            10942\n",
       "                       ...  \n",
       "2 for 1                  207\n",
       "pizza                    204\n",
       "coarse sugar             201\n",
       "tart                     191\n",
       "chocolate sourdough      191\n",
       "Name: Item, Length: 159, dtype: int64"
      ]
     },
     "execution_count": 100,
     "metadata": {
      "tags": []
     },
     "output_type": "execute_result"
    }
   ],
   "source": [
    "# Replace the wrong item names with the correct ones\n",
    "df['Item'].replace(replace, inplace = True)\n",
    "\n",
    "# Get top 159 items \n",
    "df['Item'].value_counts().head(159)"
   ]
  },
  {
   "cell_type": "code",
   "execution_count": 101,
   "metadata": {
    "colab": {
     "base_uri": "https://localhost:8080/"
    },
    "id": "YjnIiPFU09Sm",
    "outputId": "5820fccd-f7c8-4a8e-cdaa-427b999eefad"
   },
   "outputs": [
    {
     "name": "stdout",
     "output_type": "stream",
     "text": [
      "Unique items to be removed : 13\n",
      "Total Unique items: 159\n",
      "We should have 146 unique items left\n"
     ]
    }
   ],
   "source": [
    "# Create list of items that we want to keep\n",
    "items_keep = list(df['Item'].value_counts().head(159).index)\n",
    "\n",
    "# Remove from that list all promotional items\n",
    "remove_items = ['2 for $10 sourdough','2 for 1','2 for 1 > turnover','2 for one','5 for $10',\n",
    "'5 for $10 pastries','5 for $12','5 for $12 pastries','custom amount',\n",
    "'free bread','free pastry','groupon','misc.']\n",
    "print(f'Unique items to be removed : {len(remove_items)}')\n",
    "print(f'Total Unique items: {len(list(items_keep))}')\n",
    "print(f'We should have {len(list(items_keep))-len(remove_items)} unique items left')"
   ]
  },
  {
   "cell_type": "code",
   "execution_count": 130,
   "metadata": {
    "colab": {
     "base_uri": "https://localhost:8080/"
    },
    "id": "vpBQ7eqt30qt",
    "outputId": "75fc6303-e828-4f54-839a-4fbd03509fd8"
   },
   "outputs": [
    {
     "name": "stdout",
     "output_type": "stream",
     "text": [
      "We are left with 146 unique items\n"
     ]
    }
   ],
   "source": [
    "# Remove all items from the keep list that exist in the remove list\n",
    "for x in items_keep:\n",
    "    if x in remove_items:\n",
    "        items_keep.remove(x)\n",
    "print(f'We are left with {len(items_keep)} unique items')"
   ]
  },
  {
   "cell_type": "markdown",
   "metadata": {
    "id": "ULL_OezX09So"
   },
   "source": [
    "We have now created a list that contains all items that are actual products and should be kept for the analysis. We now remove all rows that do not contain our items of intrest."
   ]
  },
  {
   "cell_type": "code",
   "execution_count": 131,
   "metadata": {
    "colab": {
     "base_uri": "https://localhost:8080/"
    },
    "id": "LOU-ZexC09Sp",
    "outputId": "b5be1b0e-d6d1-4844-f217-9a5081105b1b"
   },
   "outputs": [
    {
     "data": {
      "text/plain": [
       "vanilla slice          22601\n",
       "turnover               18590\n",
       "new yorker             11984\n",
       "rasberry mousse        11045\n",
       "raisin buns            10896\n",
       "                       ...  \n",
       "pumpkin tart             206\n",
       "pizza                    204\n",
       "coarse sugar             200\n",
       "chocolate sourdough      188\n",
       "tart                     162\n",
       "Name: Item, Length: 146, dtype: int64"
      ]
     },
     "execution_count": 131,
     "metadata": {
      "tags": []
     },
     "output_type": "execute_result"
    }
   ],
   "source": [
    "# Filter the data set to only contain items of intrest\n",
    "df = df[df['Item'].isin(items_keep)]\n",
    "df['Item'].value_counts()"
   ]
  },
  {
   "cell_type": "markdown",
   "metadata": {
    "id": "bBxjWNSZ09Sq"
   },
   "source": [
    "We now have 146 unique items are clean and we can use for our analysis. Now lets complete some general house cleaning and proceed to our exploratory data analysis phase."
   ]
  },
  {
   "cell_type": "code",
   "execution_count": 132,
   "metadata": {
    "colab": {
     "base_uri": "https://localhost:8080/"
    },
    "id": "YQozKtkQ09Sq",
    "outputId": "4e4245e1-5a27-4a6b-b1b9-c923bee4ff8c"
   },
   "outputs": [
    {
     "data": {
      "text/plain": [
       "Date              0\n",
       "Time              0\n",
       "Category          0\n",
       "Item              0\n",
       "Qty               0\n",
       "Transaction ID    0\n",
       "dtype: int64"
      ]
     },
     "execution_count": 132,
     "metadata": {
      "tags": []
     },
     "output_type": "execute_result"
    }
   ],
   "source": [
    "# Check for missing values\n",
    "df.isna().sum()"
   ]
  },
  {
   "cell_type": "code",
   "execution_count": 133,
   "metadata": {
    "colab": {
     "base_uri": "https://localhost:8080/"
    },
    "id": "SwFXrFya09Sr",
    "outputId": "f252a374-5185-44b5-93ae-c9f893864a06"
   },
   "outputs": [
    {
     "name": "stdout",
     "output_type": "stream",
     "text": [
      "0\n",
      "0\n"
     ]
    }
   ],
   "source": [
    "# Check for duplicated records\n",
    "print(df.duplicated().sum())\n",
    "\n",
    "# Drop duplicated values\n",
    "df= df.drop_duplicates()\n",
    "\n",
    "# Check for duplicated records\n",
    "print(df.duplicated().sum())"
   ]
  },
  {
   "cell_type": "code",
   "execution_count": 134,
   "metadata": {
    "colab": {
     "base_uri": "https://localhost:8080/"
    },
    "id": "RchVQm3H09Su",
    "outputId": "e2766245-b054-4414-a5f5-7b54ca29b569"
   },
   "outputs": [
    {
     "data": {
      "text/plain": [
       "count    394089.000000\n",
       "mean          1.649062\n",
       "std           1.727145\n",
       "min           1.000000\n",
       "25%           1.000000\n",
       "50%           1.000000\n",
       "75%           2.000000\n",
       "max         300.000000\n",
       "Name: Qty, dtype: float64"
      ]
     },
     "execution_count": 134,
     "metadata": {
      "tags": []
     },
     "output_type": "execute_result"
    }
   ],
   "source": [
    "# Check if we have negative quantities \n",
    "df['Qty'].describe()\n",
    "\n",
    "# Looks like we do have negative quantities usualy returns. we are going to remove these transactions."
   ]
  },
  {
   "cell_type": "code",
   "execution_count": 135,
   "metadata": {
    "id": "S_3Dkyuu09Sw"
   },
   "outputs": [],
   "source": [
    "# Drop all returns\n",
    "returns_index = df[df['Qty'] <= -1 ].index\n",
    "df.drop(returns_index, axis = 0, inplace = True)"
   ]
  },
  {
   "cell_type": "code",
   "execution_count": 136,
   "metadata": {
    "colab": {
     "base_uri": "https://localhost:8080/"
    },
    "id": "eIZLo6p209Sw",
    "outputId": "16e05ec9-f95f-4301-b3e7-bf2ffb76fa92"
   },
   "outputs": [
    {
     "name": "stdout",
     "output_type": "stream",
     "text": [
      "We have 394089 rows in our data set.\n",
      "Through the cleaning phase we lost 25810 rows which correspond to 6.127890329519527%\n"
     ]
    }
   ],
   "source": [
    "# How many rows do we have now ? \n",
    "print(f'We have {df.shape[0]} rows in our data set.')\n",
    "\n",
    "# How many rows did we loose ? \n",
    "print(f'Through the cleaning phase we lost {421189 - 395379} rows which correspond to {(25810/421189) * 100}%')"
   ]
  },
  {
   "cell_type": "code",
   "execution_count": 137,
   "metadata": {
    "colab": {
     "base_uri": "https://localhost:8080/",
     "height": 586
    },
    "id": "7b9_lmQz09Sx",
    "outputId": "178fe0b7-f4fd-4b6e-83bb-234d4f1657ba"
   },
   "outputs": [
    {
     "data": {
      "image/png": "[encoded data removed]",
      "text/plain": [
       "<Figure size 1440x720 with 1 Axes>"
      ]
     },
     "metadata": {
      "needs_background": "light",
      "tags": []
     },
     "output_type": "display_data"
    }
   ],
   "source": [
    "# Lets visualise the top 20 items by quantity sold.\n",
    "df.groupby('Item').agg({\n",
    "    'Qty':[sum]\n",
    "}).nlargest(20,columns = ( 'Qty', 'sum')).sort_values(by = ( 'Qty', 'sum')).plot.barh(figsize=(20,10));"
   ]
  },
  {
   "cell_type": "code",
   "execution_count": 138,
   "metadata": {
    "colab": {
     "base_uri": "https://localhost:8080/",
     "height": 592
    },
    "id": "LIsSIj7b09Sx",
    "outputId": "b6108737-6232-46ad-a544-82f8bad150dd"
   },
   "outputs": [
    {
     "data": {
      "image/png": "[encoded data removed]",
      "text/plain": [
       "<Figure size 1440x720 with 1 Axes>"
      ]
     },
     "metadata": {
      "needs_background": "light",
      "tags": []
     },
     "output_type": "display_data"
    }
   ],
   "source": [
    "# Lets visualise categories by quantity sold.\n",
    "df.groupby('Category').agg({\n",
    "    'Qty':[sum]\n",
    "}).nlargest(10,columns = ( 'Qty', 'sum')).sort_values(by = ( 'Qty', 'sum')).plot.barh(figsize=(20,10));"
   ]
  },
  {
   "cell_type": "markdown",
   "metadata": {
    "id": "JQi6m0MD09Sy"
   },
   "source": [
    "Our categories and items look good, we have compleated the first stage of any analytical project, the cleaning phase, now that we are confident that the data is clean and makes sense we can proceed to doing some exploratory analysis to better understand the data before we procced to mining for product associations."
   ]
  },
  {
   "cell_type": "code",
   "execution_count": 139,
   "metadata": {
    "id": "bIuZrkvN09Sy"
   },
   "outputs": [],
   "source": [
    "# Save data\n",
    "df.to_csv('Products_2016-2020.csv', index = False)"
   ]
  },
  {
   "cell_type": "markdown",
   "metadata": {
    "id": "DSeUH6aU09Sy"
   },
   "source": [
    "# Exploratory Data Analysis"
   ]
  },
  {
   "cell_type": "markdown",
   "metadata": {
    "id": "n2sa0QgD09Sz"
   },
   "source": [
    "Before we get to charting we are goinng to modify the data frame abit to make it easier to use for ploting.\n",
    "We will combine the date and time columns in to one date-time column and from those extract extra date related columns and then proceed to awnsering some general questions about the data."
   ]
  },
  {
   "cell_type": "code",
   "execution_count": 140,
   "metadata": {
    "id": "6B8r_XO-09S1"
   },
   "outputs": [],
   "source": [
    "# Load clean data\n",
    "data = pd.read_csv('Products_2016-2020.csv')"
   ]
  },
  {
   "cell_type": "code",
   "execution_count": 141,
   "metadata": {
    "colab": {
     "base_uri": "https://localhost:8080/",
     "height": 419
    },
    "id": "Xdb3epk709S1",
    "outputId": "35ede354-0f4b-47a6-e345-e7898449488a"
   },
   "outputs": [
    {
     "data": {
      "text/html": [
       "<div>\n",
       "<style scoped>\n",
       "    .dataframe tbody tr th:only-of-type {\n",
       "        vertical-align: middle;\n",
       "    }\n",
       "\n",
       "    .dataframe tbody tr th {\n",
       "        vertical-align: top;\n",
       "    }\n",
       "\n",
       "    .dataframe thead th {\n",
       "        text-align: right;\n",
       "    }\n",
       "</style>\n",
       "<table border=\"1\" class=\"dataframe\">\n",
       "  <thead>\n",
       "    <tr style=\"text-align: right;\">\n",
       "      <th></th>\n",
       "      <th>Transaction ID</th>\n",
       "      <th>date_time</th>\n",
       "      <th>Category</th>\n",
       "      <th>Item</th>\n",
       "      <th>Qty</th>\n",
       "      <th>year</th>\n",
       "      <th>month</th>\n",
       "      <th>week_name</th>\n",
       "      <th>week</th>\n",
       "      <th>is_weekend</th>\n",
       "    </tr>\n",
       "  </thead>\n",
       "  <tbody>\n",
       "    <tr>\n",
       "      <th>0</th>\n",
       "      <td>fdnGVxRa2XBw7Fnx8gtVqhxeV</td>\n",
       "      <td>2016-12-31 23:57:24</td>\n",
       "      <td>Breads</td>\n",
       "      <td>swiss white</td>\n",
       "      <td>2</td>\n",
       "      <td>2016</td>\n",
       "      <td>12</td>\n",
       "      <td>Saturday</td>\n",
       "      <td>52</td>\n",
       "      <td>True</td>\n",
       "    </tr>\n",
       "    <tr>\n",
       "      <th>1</th>\n",
       "      <td>fdnGVxRa2XBw7Fnx8gtVqhxeV</td>\n",
       "      <td>2016-12-31 23:57:24</td>\n",
       "      <td>Specialty</td>\n",
       "      <td>oliebollen</td>\n",
       "      <td>1</td>\n",
       "      <td>2016</td>\n",
       "      <td>12</td>\n",
       "      <td>Saturday</td>\n",
       "      <td>52</td>\n",
       "      <td>True</td>\n",
       "    </tr>\n",
       "    <tr>\n",
       "      <th>2</th>\n",
       "      <td>V4ri6t97vjyCzA7IdEQRyCleV</td>\n",
       "      <td>2016-12-31 23:56:19</td>\n",
       "      <td>Specialty</td>\n",
       "      <td>oliebollen</td>\n",
       "      <td>1</td>\n",
       "      <td>2016</td>\n",
       "      <td>12</td>\n",
       "      <td>Saturday</td>\n",
       "      <td>52</td>\n",
       "      <td>True</td>\n",
       "    </tr>\n",
       "    <tr>\n",
       "      <th>3</th>\n",
       "      <td>RS1iJSk5N0CWNwrfKBhvKW4eV</td>\n",
       "      <td>2016-12-31 23:54:09</td>\n",
       "      <td>Specialty</td>\n",
       "      <td>oliebollen</td>\n",
       "      <td>1</td>\n",
       "      <td>2016</td>\n",
       "      <td>12</td>\n",
       "      <td>Saturday</td>\n",
       "      <td>52</td>\n",
       "      <td>True</td>\n",
       "    </tr>\n",
       "    <tr>\n",
       "      <th>4</th>\n",
       "      <td>b7V19z0TRWRpafHX8PCBzn0eV</td>\n",
       "      <td>2016-12-31 23:52:46</td>\n",
       "      <td>Specialty</td>\n",
       "      <td>oliebollen</td>\n",
       "      <td>1</td>\n",
       "      <td>2016</td>\n",
       "      <td>12</td>\n",
       "      <td>Saturday</td>\n",
       "      <td>52</td>\n",
       "      <td>True</td>\n",
       "    </tr>\n",
       "    <tr>\n",
       "      <th>...</th>\n",
       "      <td>...</td>\n",
       "      <td>...</td>\n",
       "      <td>...</td>\n",
       "      <td>...</td>\n",
       "      <td>...</td>\n",
       "      <td>...</td>\n",
       "      <td>...</td>\n",
       "      <td>...</td>\n",
       "      <td>...</td>\n",
       "      <td>...</td>\n",
       "    </tr>\n",
       "    <tr>\n",
       "      <th>394084</th>\n",
       "      <td>Xh7a9Q2BpRzrl0DSjuJZW1veV</td>\n",
       "      <td>2020-01-01 00:00:05</td>\n",
       "      <td>Breads</td>\n",
       "      <td>raisin bread</td>\n",
       "      <td>1</td>\n",
       "      <td>2020</td>\n",
       "      <td>1</td>\n",
       "      <td>Wednesday</td>\n",
       "      <td>1</td>\n",
       "      <td>False</td>\n",
       "    </tr>\n",
       "    <tr>\n",
       "      <th>394085</th>\n",
       "      <td>Xh7a9Q2BpRzrl0DSjuJZW1veV</td>\n",
       "      <td>2020-01-01 00:00:05</td>\n",
       "      <td>None</td>\n",
       "      <td>lemon sliders</td>\n",
       "      <td>1</td>\n",
       "      <td>2020</td>\n",
       "      <td>1</td>\n",
       "      <td>Wednesday</td>\n",
       "      <td>1</td>\n",
       "      <td>False</td>\n",
       "    </tr>\n",
       "    <tr>\n",
       "      <th>394086</th>\n",
       "      <td>Xh7a9Q2BpRzrl0DSjuJZW1veV</td>\n",
       "      <td>2020-01-01 00:00:05</td>\n",
       "      <td>Pastry</td>\n",
       "      <td>banana eclair</td>\n",
       "      <td>1</td>\n",
       "      <td>2020</td>\n",
       "      <td>1</td>\n",
       "      <td>Wednesday</td>\n",
       "      <td>1</td>\n",
       "      <td>False</td>\n",
       "    </tr>\n",
       "    <tr>\n",
       "      <th>394087</th>\n",
       "      <td>Xh7a9Q2BpRzrl0DSjuJZW1veV</td>\n",
       "      <td>2020-01-01 00:00:05</td>\n",
       "      <td>Pastry</td>\n",
       "      <td>gingerbread slice</td>\n",
       "      <td>1</td>\n",
       "      <td>2020</td>\n",
       "      <td>1</td>\n",
       "      <td>Wednesday</td>\n",
       "      <td>1</td>\n",
       "      <td>False</td>\n",
       "    </tr>\n",
       "    <tr>\n",
       "      <th>394088</th>\n",
       "      <td>Xh7a9Q2BpRzrl0DSjuJZW1veV</td>\n",
       "      <td>2020-01-01 00:00:05</td>\n",
       "      <td>Pastry</td>\n",
       "      <td>bosse bol</td>\n",
       "      <td>1</td>\n",
       "      <td>2020</td>\n",
       "      <td>1</td>\n",
       "      <td>Wednesday</td>\n",
       "      <td>1</td>\n",
       "      <td>False</td>\n",
       "    </tr>\n",
       "  </tbody>\n",
       "</table>\n",
       "<p>394089 rows × 10 columns</p>\n",
       "</div>"
      ],
      "text/plain": [
       "                   Transaction ID           date_time  ... week is_weekend\n",
       "0       fdnGVxRa2XBw7Fnx8gtVqhxeV 2016-12-31 23:57:24  ...   52       True\n",
       "1       fdnGVxRa2XBw7Fnx8gtVqhxeV 2016-12-31 23:57:24  ...   52       True\n",
       "2       V4ri6t97vjyCzA7IdEQRyCleV 2016-12-31 23:56:19  ...   52       True\n",
       "3       RS1iJSk5N0CWNwrfKBhvKW4eV 2016-12-31 23:54:09  ...   52       True\n",
       "4       b7V19z0TRWRpafHX8PCBzn0eV 2016-12-31 23:52:46  ...   52       True\n",
       "...                           ...                 ...  ...  ...        ...\n",
       "394084  Xh7a9Q2BpRzrl0DSjuJZW1veV 2020-01-01 00:00:05  ...    1      False\n",
       "394085  Xh7a9Q2BpRzrl0DSjuJZW1veV 2020-01-01 00:00:05  ...    1      False\n",
       "394086  Xh7a9Q2BpRzrl0DSjuJZW1veV 2020-01-01 00:00:05  ...    1      False\n",
       "394087  Xh7a9Q2BpRzrl0DSjuJZW1veV 2020-01-01 00:00:05  ...    1      False\n",
       "394088  Xh7a9Q2BpRzrl0DSjuJZW1veV 2020-01-01 00:00:05  ...    1      False\n",
       "\n",
       "[394089 rows x 10 columns]"
      ]
     },
     "execution_count": 141,
     "metadata": {
      "tags": []
     },
     "output_type": "execute_result"
    }
   ],
   "source": [
    "# Create date_time column, set to datetime format and drop Date and Time columns\n",
    "data['date_time'] = data['Date'] + ' ' + data['Time']\n",
    "data['date_time'] = pd.to_datetime(data['date_time'])\n",
    "data.drop(['Date', 'Time'], axis = 1, inplace = True)\n",
    "\n",
    "# Reorganize the dataframe\n",
    "data = data[['Transaction ID', 'date_time', 'Category', 'Item', 'Qty']]\n",
    "\n",
    "# Create extra date columns\n",
    "data['year'] = data.date_time.dt.year\n",
    "data['month'] = data.date_time.dt.month\n",
    "data['week_name'] = data.date_time.dt.day_name()\n",
    "data['week'] = data.date_time.dt.isocalendar().week\n",
    "data['is_weekend'] = data.week_name.isin(['Saturday', 'Sunday'])\n",
    "# Debug\n",
    "data"
   ]
  },
  {
   "cell_type": "markdown",
   "metadata": {
    "id": "txGnQXln09S2"
   },
   "source": [
    "Looks good, the date columns will come in handy when we are analyzing the data by time. As we did with the cleaning stage lets begin by analysing our categories performance. For comparabilitiy reasons we will filter out the categories that do not exist in all of the 5 years of the data."
   ]
  },
  {
   "cell_type": "markdown",
   "metadata": {
    "id": "2bXBFZ1b09S2"
   },
   "source": [
    "## Category"
   ]
  },
  {
   "cell_type": "code",
   "execution_count": 142,
   "metadata": {
    "colab": {
     "base_uri": "https://localhost:8080/"
    },
    "id": "JJOm7e2809S3",
    "outputId": "4257f1c9-00ec-4867-8901-d710ff398243"
   },
   "outputs": [
    {
     "data": {
      "text/plain": [
       "array(['Breads', 'Specialty', 'Buns', 'Pastry', 'Cookie', 'Cakes & Pies',\n",
       "       'Frozen', 'Baking supplies'], dtype=object)"
      ]
     },
     "execution_count": 142,
     "metadata": {
      "tags": []
     },
     "output_type": "execute_result"
    }
   ],
   "source": [
    "# What categories existed all the 5 years ? \n",
    "x = data.groupby(['Category','year'], as_index = False).size()\n",
    "x = x.groupby('Category', as_index = False).agg({\n",
    "    'year' : 'count'\n",
    "})\n",
    "\n",
    "categories = list(x[x['year']==5]['Category'])\n",
    "categories.remove('None')\n",
    "categories = data.loc[data['Category'].isin(categories)]\n",
    "categories['Category'].unique()"
   ]
  },
  {
   "cell_type": "code",
   "execution_count": 143,
   "metadata": {
    "colab": {
     "base_uri": "https://localhost:8080/",
     "height": 406
    },
    "id": "vSqzABf309S4",
    "outputId": "d08c6809-139a-4b08-d655-f077bc6f710f"
   },
   "outputs": [
    {
     "data": {
      "image/png": "[encoded data removed]",
      "text/plain": [
       "<Figure size 1296x432 with 1 Axes>"
      ]
     },
     "metadata": {
      "needs_background": "light",
      "tags": []
     },
     "output_type": "display_data"
    }
   ],
   "source": [
    "# What is the most popular category ? \n",
    "popular_category = categories.groupby(['Category', 'Transaction ID'], as_index = False).agg({'Qty':'sum'})\n",
    "popular_category = popular_category.groupby(['Category'], as_index = False).sum()\n",
    "popular_category = popular_category.sort_values(by = 'Qty', ascending = False)\n",
    "plt.figure(figsize = (18,6));\n",
    "sns.barplot(data = popular_category, x = 'Category', y = 'Qty');\n",
    "sns.despine()\n",
    "plt.title('Units sold per category', size = 15);"
   ]
  },
  {
   "cell_type": "markdown",
   "metadata": {
    "id": "inndWyMI09S4"
   },
   "source": [
    "Pastries are by far the best selling category for bennanna bakery. Has this alwys been the case ? "
   ]
  },
  {
   "cell_type": "code",
   "execution_count": 144,
   "metadata": {
    "colab": {
     "base_uri": "https://localhost:8080/",
     "height": 235
    },
    "id": "khcn1-aD09S4",
    "outputId": "19cdadb0-9fd8-42db-c419-aa2a940ca58b"
   },
   "outputs": [
    {
     "data": {
      "text/html": [
       "<div>\n",
       "<style scoped>\n",
       "    .dataframe tbody tr th:only-of-type {\n",
       "        vertical-align: middle;\n",
       "    }\n",
       "\n",
       "    .dataframe tbody tr th {\n",
       "        vertical-align: top;\n",
       "    }\n",
       "\n",
       "    .dataframe thead th {\n",
       "        text-align: right;\n",
       "    }\n",
       "</style>\n",
       "<table border=\"1\" class=\"dataframe\">\n",
       "  <thead>\n",
       "    <tr style=\"text-align: right;\">\n",
       "      <th>Category</th>\n",
       "      <th>Baking supplies</th>\n",
       "      <th>Breads</th>\n",
       "      <th>Buns</th>\n",
       "      <th>Cakes &amp; Pies</th>\n",
       "      <th>Cookie</th>\n",
       "      <th>Frozen</th>\n",
       "      <th>Pastry</th>\n",
       "      <th>Specialty</th>\n",
       "    </tr>\n",
       "    <tr>\n",
       "      <th>year</th>\n",
       "      <th></th>\n",
       "      <th></th>\n",
       "      <th></th>\n",
       "      <th></th>\n",
       "      <th></th>\n",
       "      <th></th>\n",
       "      <th></th>\n",
       "      <th></th>\n",
       "    </tr>\n",
       "  </thead>\n",
       "  <tbody>\n",
       "    <tr>\n",
       "      <th>2016</th>\n",
       "      <td>4.912655</td>\n",
       "      <td>9.436360</td>\n",
       "      <td>9.566685</td>\n",
       "      <td>8.288534</td>\n",
       "      <td>7.863267</td>\n",
       "      <td>6.938284</td>\n",
       "      <td>10.791914</td>\n",
       "      <td>8.268475</td>\n",
       "    </tr>\n",
       "    <tr>\n",
       "      <th>2017</th>\n",
       "      <td>5.549076</td>\n",
       "      <td>9.876116</td>\n",
       "      <td>9.847235</td>\n",
       "      <td>8.404920</td>\n",
       "      <td>8.768885</td>\n",
       "      <td>7.318540</td>\n",
       "      <td>10.940366</td>\n",
       "      <td>8.509161</td>\n",
       "    </tr>\n",
       "    <tr>\n",
       "      <th>2018</th>\n",
       "      <td>6.082219</td>\n",
       "      <td>9.408863</td>\n",
       "      <td>9.976599</td>\n",
       "      <td>8.525360</td>\n",
       "      <td>8.615408</td>\n",
       "      <td>6.595781</td>\n",
       "      <td>11.235590</td>\n",
       "      <td>8.118207</td>\n",
       "    </tr>\n",
       "    <tr>\n",
       "      <th>2019</th>\n",
       "      <td>5.899897</td>\n",
       "      <td>9.451167</td>\n",
       "      <td>9.802285</td>\n",
       "      <td>8.421123</td>\n",
       "      <td>7.405496</td>\n",
       "      <td>7.304516</td>\n",
       "      <td>11.141673</td>\n",
       "      <td>7.505492</td>\n",
       "    </tr>\n",
       "    <tr>\n",
       "      <th>2020</th>\n",
       "      <td>6.410175</td>\n",
       "      <td>9.554568</td>\n",
       "      <td>10.194813</td>\n",
       "      <td>8.491260</td>\n",
       "      <td>8.829665</td>\n",
       "      <td>7.577634</td>\n",
       "      <td>11.302106</td>\n",
       "      <td>7.088409</td>\n",
       "    </tr>\n",
       "  </tbody>\n",
       "</table>\n",
       "</div>"
      ],
      "text/plain": [
       "Category  Baking supplies    Breads       Buns  ...    Frozen     Pastry  Specialty\n",
       "year                                            ...                                \n",
       "2016             4.912655  9.436360   9.566685  ...  6.938284  10.791914   8.268475\n",
       "2017             5.549076  9.876116   9.847235  ...  7.318540  10.940366   8.509161\n",
       "2018             6.082219  9.408863   9.976599  ...  6.595781  11.235590   8.118207\n",
       "2019             5.899897  9.451167   9.802285  ...  7.304516  11.141673   7.505492\n",
       "2020             6.410175  9.554568  10.194813  ...  7.577634  11.302106   7.088409\n",
       "\n",
       "[5 rows x 8 columns]"
      ]
     },
     "execution_count": 144,
     "metadata": {
      "tags": []
     },
     "output_type": "execute_result"
    }
   ],
   "source": [
    "# Units sold by categories through out the past 5 years\n",
    "year_categories = categories.groupby(['year','Category', 'Transaction ID'], as_index = False).agg({'Qty':'sum'})\n",
    "year_categories = year_categories.groupby(['year','Category'],as_index = False).agg({'Qty':'sum'})\n",
    "year_categories['Qty_log'] = np.log(year_categories['Qty'])\n",
    "year_categories = year_categories.pivot(\"year\", \"Category\", \"Qty_log\")\n",
    "year_categories"
   ]
  },
  {
   "cell_type": "code",
   "execution_count": 145,
   "metadata": {
    "colab": {
     "base_uri": "https://localhost:8080/",
     "height": 406
    },
    "id": "ArbpD2y109S5",
    "outputId": "a3e0abbc-f2e0-4045-b6d1-b582ad7e20bb"
   },
   "outputs": [
    {
     "data": {
      "image/png": "[encoded data removed]",
      "text/plain": [
       "<Figure size 1440x432 with 1 Axes>"
      ]
     },
     "metadata": {
      "needs_background": "light",
      "tags": []
     },
     "output_type": "display_data"
    }
   ],
   "source": [
    "# Plot the data\n",
    "plt.figure(figsize = (20,6))\n",
    "sns.lineplot(data = year_categories, markers=True, dashes=False )\n",
    "sns.despine()\n",
    "plt.title('Units sold per category 2016 - 2020', size = 15);"
   ]
  },
  {
   "cell_type": "markdown",
   "metadata": {
    "id": "Upjw9xBp09S5"
   },
   "source": [
    "We had to take the Log of quantity as to put all the data on the same scale so we can better compare the categories.\n",
    "Pastries have always been the best selling category. Their growth looks to be quite steady compared to the other categories, lets look at the average YoY growth rate of each category as to get a better picture of which category is growing the fastest.\n",
    "\n",
    "We will measure YoY growth as the percent increase or decrease of units sold from year 1 to year 2 etc and get the average for all the periods."
   ]
  },
  {
   "cell_type": "code",
   "execution_count": 146,
   "metadata": {
    "colab": {
     "base_uri": "https://localhost:8080/",
     "height": 406
    },
    "id": "qZmfkECw09S6",
    "outputId": "97b1169f-f014-4cb1-92a5-61998f9941aa"
   },
   "outputs": [
    {
     "data": {
      "image/png": "[encoded data removed]",
      "text/plain": [
       "<Figure size 1296x432 with 1 Axes>"
      ]
     },
     "metadata": {
      "needs_background": "light",
      "tags": []
     },
     "output_type": "display_data"
    }
   ],
   "source": [
    "# What category is growing the most ? \n",
    "cat_growth = categories.groupby(['year','Category', 'Transaction ID'], as_index = False).agg({\n",
    "    'Qty':'sum'\n",
    "})\n",
    "cat_growth = cat_growth.groupby(['year', 'Category'], as_index = False).agg({\n",
    "    'Qty':'sum'\n",
    "})\n",
    "\n",
    "cats = list(cat_growth['Category'].unique())\n",
    "growth = pd.DataFrame()\n",
    "\n",
    "for category in cats:\n",
    "    x = cat_growth[cat_growth['Category'] == category]['Qty']\n",
    "    growth_rate = np.exp(np.diff(np.log(x))) - 1\n",
    "    growth = growth.append(pd.DataFrame({'Category': category, 'Growth': growth_rate}), ignore_index=True)\n",
    "    \n",
    "growth = growth.groupby('Category', as_index = False).agg({\n",
    "    'Growth':'median'\n",
    "})\n",
    "\n",
    "# Plot The results\n",
    "plt.figure(figsize = (18,6));\n",
    "sns.barplot(data = growth.sort_values(by= 'Growth', ascending = False), x = 'Category', y = 'Growth');\n",
    "sns.despine()\n",
    "plt.title('Average percent growth YoY category 2016 - 2020', size = 15);"
   ]
  },
  {
   "cell_type": "markdown",
   "metadata": {
    "id": "fs8CwtSA09S6"
   },
   "source": [
    "Baking supplies and Cookie category are the fastest growing category with speciality bieng the only category not growing and acttualy shrinking. Lets do the same for our items."
   ]
  },
  {
   "cell_type": "markdown",
   "metadata": {
    "id": "RkAaPmic09S6"
   },
   "source": [
    "## Items"
   ]
  },
  {
   "cell_type": "code",
   "execution_count": 147,
   "metadata": {
    "colab": {
     "base_uri": "https://localhost:8080/"
    },
    "id": "keqNpzIT09S7",
    "outputId": "876e3301-266d-4b99-fb12-fc1cb00e8a6e"
   },
   "outputs": [
    {
     "data": {
      "text/plain": [
       "array(['oliebollen', 'raisin buns', 'stollen', 'sausage rolls',\n",
       "       'serious coconut tart', 'coconut loonie', 'black forest cake',\n",
       "       'mocha cake', 'multigrain sourdough',\n",
       "       'fresh fruit whipped cream cake', 'almond danish', 'new yorker',\n",
       "       'vanilla slice', 'banana eclair', 'over the top chocolate cake',\n",
       "       'danish', 'mocha puff', 'puff pastry frozen', 'rasberry mousse',\n",
       "       'cream horn', 'squares', 'creamy cheesecake', 'victorias',\n",
       "       'assorted pastries', 'chocolate eclair', 'sugar butterfly',\n",
       "       'chocolate cream puff', 'rye bread', 'crusty buns',\n",
       "       'diabetic puff', 'benanna cream cup', 'cranberry sourdough',\n",
       "       'whipping cream', 'croissant', 'panko crumbs', 'hazelnut meringue',\n",
       "       'shortbread cookies', 'chocolate rocks', 'bienenstich torte',\n",
       "       'macaroon', 'cookies', 'cinnamon bun', 'coarse sugar',\n",
       "       'pumpkin spice puff', 'raisin bread', 'strawberry extravaganza',\n",
       "       'hot cross buns', 'bread crumbs', 'ginger snaps',\n",
       "       'multigrain soft bread', 'turnover', 'bananna cream tart',\n",
       "       'bosse bol', 'ciabatta', 'butter cookies', 'almond sticks / rings',\n",
       "       'mint eclair', 'mint bar', 'soup', 'challah', 'fruit tarts'],\n",
       "      dtype=object)"
      ]
     },
     "execution_count": 147,
     "metadata": {
      "tags": []
     },
     "output_type": "execute_result"
    }
   ],
   "source": [
    "# What Items exist in atleast 4 years of operation ? \n",
    "items_4 = data.groupby(['Item','year'], as_index = False).size()\n",
    "items_4 = items_4.groupby('Item', as_index = False).agg({\n",
    "    'year' : 'count'\n",
    "})\n",
    "\n",
    "items_4 = list(items_4[items_4['year']>=4]['Item'])\n",
    "\n",
    "items_4 = data.loc[data['Item'].isin(items_4)]\n",
    "items_4['Item'].unique()"
   ]
  },
  {
   "cell_type": "code",
   "execution_count": 148,
   "metadata": {
    "colab": {
     "base_uri": "https://localhost:8080/",
     "height": 588
    },
    "id": "XQuLj4_M09S7",
    "outputId": "c7eb61e3-f978-42f0-d4dc-ecde44a8635e"
   },
   "outputs": [
    {
     "data": {
      "image/png": "[encoded data removed]",
      "text/plain": [
       "<Figure size 1296x576 with 1 Axes>"
      ]
     },
     "metadata": {
      "needs_background": "light",
      "tags": []
     },
     "output_type": "display_data"
    }
   ],
   "source": [
    "# What is the most popular item ? \n",
    "popular_items = items_4.groupby(['Item', 'Transaction ID'], as_index = False).agg({'Qty':'sum'})\n",
    "popular_items = popular_items.groupby(['Item'], as_index = False).sum()\n",
    "popular_items = popular_items.sort_values(by = 'Qty', ascending = False)\n",
    "plt.figure(figsize = (18,8));\n",
    "sns.barplot(data = popular_items.nlargest(20,'Qty'), x = 'Item', y = 'Qty');\n",
    "sns.despine()\n",
    "plt.xticks(rotation='45')\n",
    "plt.title('Units sold per Item (Top 20) 2016 - 2020', size = 15);"
   ]
  },
  {
   "cell_type": "markdown",
   "metadata": {
    "id": "b3OCUKeE09S8"
   },
   "source": [
    "Looks like most of the sales come from 3 items. "
   ]
  },
  {
   "cell_type": "code",
   "execution_count": 149,
   "metadata": {
    "colab": {
     "base_uri": "https://localhost:8080/",
     "height": 419
    },
    "id": "7z0adyjY09S8",
    "outputId": "ef202af5-136c-4ec1-aad3-53749a163e9f"
   },
   "outputs": [
    {
     "data": {
      "text/html": [
       "<div>\n",
       "<style scoped>\n",
       "    .dataframe tbody tr th:only-of-type {\n",
       "        vertical-align: middle;\n",
       "    }\n",
       "\n",
       "    .dataframe tbody tr th {\n",
       "        vertical-align: top;\n",
       "    }\n",
       "\n",
       "    .dataframe thead th {\n",
       "        text-align: right;\n",
       "    }\n",
       "</style>\n",
       "<table border=\"1\" class=\"dataframe\">\n",
       "  <thead>\n",
       "    <tr style=\"text-align: right;\">\n",
       "      <th></th>\n",
       "      <th>Item</th>\n",
       "      <th>Growth</th>\n",
       "    </tr>\n",
       "  </thead>\n",
       "  <tbody>\n",
       "    <tr>\n",
       "      <th>53</th>\n",
       "      <td>squares</td>\n",
       "      <td>-0.211328</td>\n",
       "    </tr>\n",
       "    <tr>\n",
       "      <th>24</th>\n",
       "      <td>crusty buns</td>\n",
       "      <td>-0.084638</td>\n",
       "    </tr>\n",
       "    <tr>\n",
       "      <th>28</th>\n",
       "      <td>fruit tarts</td>\n",
       "      <td>-0.069185</td>\n",
       "    </tr>\n",
       "    <tr>\n",
       "      <th>37</th>\n",
       "      <td>multigrain soft bread</td>\n",
       "      <td>-0.050377</td>\n",
       "    </tr>\n",
       "    <tr>\n",
       "      <th>51</th>\n",
       "      <td>shortbread cookies</td>\n",
       "      <td>-0.047342</td>\n",
       "    </tr>\n",
       "    <tr>\n",
       "      <th>...</th>\n",
       "      <td>...</td>\n",
       "      <td>...</td>\n",
       "    </tr>\n",
       "    <tr>\n",
       "      <th>17</th>\n",
       "      <td>coarse sugar</td>\n",
       "      <td>0.111397</td>\n",
       "    </tr>\n",
       "    <tr>\n",
       "      <th>9</th>\n",
       "      <td>bread crumbs</td>\n",
       "      <td>0.138515</td>\n",
       "    </tr>\n",
       "    <tr>\n",
       "      <th>22</th>\n",
       "      <td>creamy cheesecake</td>\n",
       "      <td>0.151136</td>\n",
       "    </tr>\n",
       "    <tr>\n",
       "      <th>6</th>\n",
       "      <td>bienenstich torte</td>\n",
       "      <td>0.233148</td>\n",
       "    </tr>\n",
       "    <tr>\n",
       "      <th>55</th>\n",
       "      <td>strawberry extravaganza</td>\n",
       "      <td>0.308185</td>\n",
       "    </tr>\n",
       "  </tbody>\n",
       "</table>\n",
       "<p>61 rows × 2 columns</p>\n",
       "</div>"
      ],
      "text/plain": [
       "                       Item    Growth\n",
       "53                  squares -0.211328\n",
       "24              crusty buns -0.084638\n",
       "28              fruit tarts -0.069185\n",
       "37    multigrain soft bread -0.050377\n",
       "51       shortbread cookies -0.047342\n",
       "..                      ...       ...\n",
       "17             coarse sugar  0.111397\n",
       "9              bread crumbs  0.138515\n",
       "22        creamy cheesecake  0.151136\n",
       "6         bienenstich torte  0.233148\n",
       "55  strawberry extravaganza  0.308185\n",
       "\n",
       "[61 rows x 2 columns]"
      ]
     },
     "execution_count": 149,
     "metadata": {
      "tags": []
     },
     "output_type": "execute_result"
    }
   ],
   "source": [
    "# What items sales are growing ?\n",
    "item_growth = items_4.groupby(['year','Item', 'Transaction ID'], as_index = False).agg({\n",
    "    'Qty':'sum'\n",
    "})\n",
    "item_growth = item_growth.groupby(['year', 'Item'], as_index = False).agg({\n",
    "    'Qty':'sum'\n",
    "})\n",
    "item_growth['Qty'] = np.log(item_growth['Qty'])\n",
    "\n",
    "itemss = list(item_growth['Item'].unique())\n",
    "growth_item = pd.DataFrame()\n",
    "\n",
    "for item in itemss:\n",
    "    x = item_growth[item_growth['Item'] == item]['Qty']\n",
    "    growth_rate = np.exp(np.diff(np.log(x))) - 1\n",
    "    growth_item = growth_item.append(pd.DataFrame({'Item': item, 'Growth': growth_rate}), ignore_index=True)\n",
    "    \n",
    "growth_item = growth_item.groupby('Item', as_index = False).agg({\n",
    "    'Growth':'median'\n",
    "})\n",
    "growth_item.sort_values(by = 'Growth')"
   ]
  },
  {
   "cell_type": "code",
   "execution_count": 150,
   "metadata": {
    "colab": {
     "base_uri": "https://localhost:8080/",
     "height": 1000
    },
    "id": "b-Zf78p609S8",
    "outputId": "68e7c109-6243-4f27-84ac-18720659bd2e"
   },
   "outputs": [
    {
     "data": {
      "image/png": "[encoded data removed]",
      "text/plain": [
       "<Figure size 720x1656 with 1 Axes>"
      ]
     },
     "metadata": {
      "needs_background": "light",
      "tags": []
     },
     "output_type": "display_data"
    }
   ],
   "source": [
    "# Plot the data\n",
    "plt.figure(figsize = (10,23));\n",
    "sns.barplot(data = growth_item.sort_values(by= 'Growth', ascending = False), y = 'Item', x = 'Growth',orient= 'h');\n",
    "sns.despine()\n",
    "plt.xticks(rotation='45')\n",
    "plt.title('Log Average percent growth YoY Item 2016 - 2020', size = 15);"
   ]
  },
  {
   "cell_type": "markdown",
   "metadata": {
    "id": "vy6Yo1Ct09S9"
   },
   "source": [
    "More than 10 products are recording diminishing sales figures, mybe these products should be discontinued and resources allocated to the top growing products. Lets take focus on the transactions in general"
   ]
  },
  {
   "cell_type": "markdown",
   "metadata": {
    "id": "lCuM5Gwq09S9"
   },
   "source": [
    "## Transactions"
   ]
  },
  {
   "cell_type": "code",
   "execution_count": 151,
   "metadata": {
    "colab": {
     "base_uri": "https://localhost:8080/"
    },
    "id": "TokzcnMH09S-",
    "outputId": "e0c823ab-8788-4197-cbd8-3fb062ddc7f8"
   },
   "outputs": [
    {
     "name": "stdout",
     "output_type": "stream",
     "text": [
      "We have 164817 unique transactions\n"
     ]
    }
   ],
   "source": [
    "# How many transactions in the dataset ? \n",
    "trans_ind = data['Transaction ID'].nunique()\n",
    "print(f'We have {trans_ind} unique transactions')"
   ]
  },
  {
   "cell_type": "code",
   "execution_count": 152,
   "metadata": {
    "colab": {
     "base_uri": "https://localhost:8080/"
    },
    "id": "PoppoVus09S_",
    "outputId": "ee763b0d-fb64-44e6-edbe-961a681516c1"
   },
   "outputs": [
    {
     "data": {
      "text/plain": [
       "count    164817.000000\n",
       "mean          3.943022\n",
       "std           3.753711\n",
       "min           1.000000\n",
       "25%           2.000000\n",
       "50%           3.000000\n",
       "75%           5.000000\n",
       "max         300.000000\n",
       "Name: Qty, dtype: float64"
      ]
     },
     "execution_count": 152,
     "metadata": {
      "tags": []
     },
     "output_type": "execute_result"
    }
   ],
   "source": [
    "# Describe Transactions\n",
    "data.groupby('Transaction ID')['Qty'].sum().describe()"
   ]
  },
  {
   "cell_type": "markdown",
   "metadata": {
    "id": "2rTYzfeO09S_"
   },
   "source": [
    "Looks like the average transaction is made up of 3 items. How does the distribution look like ? "
   ]
  },
  {
   "cell_type": "code",
   "execution_count": 153,
   "metadata": {
    "colab": {
     "base_uri": "https://localhost:8080/",
     "height": 535
    },
    "id": "8aVb14d109S_",
    "outputId": "18871aae-2fbb-4764-cb3b-1ff3f06b1397"
   },
   "outputs": [
    {
     "name": "stdout",
     "output_type": "stream",
     "text": [
      "\n"
     ]
    },
    {
     "data": {
      "image/png": "[encoded data removed]",
      "text/plain": [
       "<Figure size 1152x576 with 1 Axes>"
      ]
     },
     "metadata": {
      "needs_background": "light",
      "tags": []
     },
     "output_type": "display_data"
    }
   ],
   "source": [
    "# How many products on in the average transaction ? \n",
    "ax = data[data['Qty']<= 5]\n",
    "n_trans = len(ax.groupby('Transaction ID')['Qty'].sum())\n",
    "ax.groupby('Transaction ID')['Qty'].sum().plot.hist(bins = 100, figsize = (16,8));\n",
    "sns.despine()\n",
    "plt.xticks(range(1,50,2))\n",
    "plt.title(f'Units per transaction distribution\\n Median Transaction size : {data.groupby(\"Transaction ID\")[\"Qty\"].sum().median()}'\n",
    "          ,size = 15);\n",
    "print(f'')"
   ]
  },
  {
   "cell_type": "code",
   "execution_count": 154,
   "metadata": {
    "colab": {
     "base_uri": "https://localhost:8080/",
     "height": 406
    },
    "id": "lhPai7cu09TA",
    "outputId": "128b360c-b334-4c16-839d-94bbf2fda878"
   },
   "outputs": [
    {
     "data": {
      "image/png": "[encoded data removed]",
      "text/plain": [
       "<Figure size 1440x432 with 1 Axes>"
      ]
     },
     "metadata": {
      "needs_background": "light",
      "tags": []
     },
     "output_type": "display_data"
    }
   ],
   "source": [
    "# Have transaction been increasing YoY ?\n",
    "year_trans = data.groupby([data['year']], as_index = False)['Transaction ID'].nunique()\n",
    "\n",
    "# Plot the data\n",
    "plt.figure(figsize = (20,6))\n",
    "sns.lineplot(data = year_trans, x ='year', y = 'Transaction ID', marker = 'o')\n",
    "sns.despine()\n",
    "plt.xticks(range(2016, 2021))\n",
    "plt.title('Number of transactions per Year',size = 15);"
   ]
  },
  {
   "cell_type": "code",
   "execution_count": 155,
   "metadata": {
    "colab": {
     "base_uri": "https://localhost:8080/",
     "height": 406
    },
    "id": "UPD2b7So09TG",
    "outputId": "30405423-9252-43d0-9dd6-81ea676fbb7f"
   },
   "outputs": [
    {
     "data": {
      "image/png": "[encoded data removed]",
      "text/plain": [
       "<Figure size 1440x432 with 1 Axes>"
      ]
     },
     "metadata": {
      "needs_background": "light",
      "tags": []
     },
     "output_type": "display_data"
    }
   ],
   "source": [
    "# What is the busiest day of the month ?\n",
    "trans_month = data.groupby([data['year'], data['month']], as_index = False)['Transaction ID'].nunique()\n",
    "trans_month = trans_month.groupby('month', as_index = False)['Transaction ID'].median()\n",
    "trans_month['Transaction ID']\n",
    "# Plot the data \n",
    "plt.figure(figsize = (20,6))\n",
    "sns.barplot(data = trans_month, x = 'month', y = 'Transaction ID')\n",
    "plt.ylabel('Transactions')\n",
    "plt.xlabel('Month')\n",
    "plt.axhline(2800, c = 'grey', ls = '--')\n",
    "sns.despine()\n",
    "plt.ylim(2500, 3000)\n",
    "plt.title('Average number of transactions per Month 2016 - 2020',size = 15);"
   ]
  },
  {
   "cell_type": "markdown",
   "metadata": {
    "id": "GkurK4zm09TG"
   },
   "source": [
    "On average there is little differance between the months of the year in terms of the number of transactions, most months for the 5 years have been averaging above 2500 transactions a month, but we see that the months of march, june, september and december all average above 2800 transactions a month. We can consider these the busyest months of the year. What about week of day ? Is any day particularly busyier ? "
   ]
  },
  {
   "cell_type": "code",
   "execution_count": 160,
   "metadata": {
    "colab": {
     "base_uri": "https://localhost:8080/",
     "height": 406
    },
    "id": "GLKX0L2R09TG",
    "outputId": "e115b7d5-d62b-4bef-e692-f871898014bc"
   },
   "outputs": [
    {
     "data": {
      "image/png": "[encoded data removed]",
      "text/plain": [
       "<Figure size 1440x432 with 1 Axes>"
      ]
     },
     "metadata": {
      "needs_background": "light",
      "tags": []
     },
     "output_type": "display_data"
    }
   ],
   "source": [
    "# What is the busiest day of the week ?\n",
    "trans_week = data.groupby([data['year'], data['month'], data['week_name']], as_index = False)['Transaction ID'].nunique()\n",
    "trans_week = trans_week.groupby('week_name')['Transaction ID'].median()\n",
    "trans_week = pd.DataFrame(trans_week.loc[['Monday','Tuesday', 'Wednesday', 'Thursday', 'Friday', 'Saturday', 'Sunday']])\n",
    "trans_week\n",
    "# Plot the data \n",
    "plt.figure(figsize = (20,6))\n",
    "sns.barplot(data = trans_week, x = trans_week.index, y = 'Transaction ID')\n",
    "plt.ylabel('Transactions')\n",
    "plt.xlabel('WeekDay')\n",
    "sns.despine()\n",
    "plt.ylim(100, 750)\n",
    "plt.title('Average number of transactions per WeekDay',size = 15);"
   ]
  },
  {
   "cell_type": "markdown",
   "metadata": {
    "id": "lqMlGZ6X09TH"
   },
   "source": [
    "Monday is the least busiest day, probably because its the day the store is closed. Other wise we can see that Saturday is the busiest day."
   ]
  },
  {
   "cell_type": "markdown",
   "metadata": {
    "id": "zO8UtZc92GIp"
   },
   "source": [
    "# Market Basket Analysis"
   ]
  },
  {
   "cell_type": "markdown",
   "metadata": {
    "id": "bkRztTfm2OhA"
   },
   "source": [
    "Market Basket Analysis is a technique which identifies the strength of association between pairs of products purchased together and identify patterns of co-occurrence. A co-occurrence is when two or more things take place together.\n",
    "\n",
    "Market Basket Analysis creates If-Then scenario rules, for example, if item A is purchased then item B is likely to be purchased. The rules are probabilistic in nature or, in other words, they are derived from the frequencies of co-occurrence in the observations. Frequency is the proportion of baskets that contain the items of interest. The rules can be used in pricing strategies, product placement, and various types of cross-selling strategies.\n",
    "To conduct the analysis we will use the the apriori algorithim and association rules mining."
   ]
  },
  {
   "cell_type": "markdown",
   "metadata": {
    "id": "SV6NjR842r-3"
   },
   "source": [
    "### Apriori Algorithm \n",
    "Apriori is an algorithm used to identify frequent item sets (in our case, item pairs).  It does so using a \"bottom up\" approach, first identifying individual items that satisfy a minimum occurence threshold. It then extends the item set, adding one item at a time and checking if the resulting item set still satisfies the specified threshold.  The algorithm stops when there are no more items to add that meet the minimum occurrence requirement.  Here's an example of apriori in action, assuming a minimum occurence threshold of 3:\n",
    "\n",
    "\n",
    "    order 1: apple, egg, milk  \n",
    "    order 2: carrot, milk  \n",
    "    order 3: apple, egg, carrot\n",
    "    order 4: apple, egg\n",
    "    order 5: apple, carrot\n",
    "\n",
    "    \n",
    "    Iteration 1:  Count the number of times each item occurs   \n",
    "    item set      occurrence count    \n",
    "    {apple}              4   \n",
    "    {egg}                3   \n",
    "    {milk}               2   \n",
    "    {carrot}             2   \n",
    "\n",
    "    {milk} and {carrot} are eliminated because they do not meet the minimum occurrence threshold.\n",
    "\n",
    "\n",
    "    Iteration 2: Build item sets of size 2 using the remaining items from Iteration 1 \n",
    "                 (ie: apple, egg)  \n",
    "    item set           occurence count  \n",
    "    {apple, egg}             3  \n",
    "\n",
    "    Only {apple, egg} remains and the algorithm stops since there are no more items to add.\n",
    "   \n",
    "   \n",
    "If we had more orders and items, we can continue to iterate, building item sets consisting of more than 2 elements.  For the problem we are trying to solve (ie: finding relationships between pairs of items), it suffices to implement apriori to get to item sets of size 2."
   ]
  },
  {
   "cell_type": "markdown",
   "metadata": {
    "id": "i4N5xvgR3A6D"
   },
   "source": [
    "### Association Rules Mining\n",
    "Once the item sets have been generated using apriori, we can start mining association rules.  Given that we are only looking at item sets of size 2, the association rules we will generate will be of the form {A} -> {B}.  One common application of these rules is in the domain of recommender systems, where customers who purchased item A are recommended item B.\n",
    "\n",
    "Here are 3 key metrics to consider when evaluating association rules:\n",
    "\n",
    "1. <b>support</b>  \n",
    "    This is the percentage of orders that contains the item set. In the example above, there are 5 orders in total \n",
    "    and {apple,egg} occurs in 3 of them, so: \n",
    "       \n",
    "                    support{apple,egg} = 3/5 or 60%\n",
    "        \n",
    "    The minimum support threshold required by apriori can be set based on knowledge of your domain.  In this \n",
    "    grocery dataset for example, since there could be thousands of distinct items and an order can contain \n",
    "    only a small fraction of these items, setting the support threshold to 0.01% may be reasonable.<br><br><br>\n",
    "    \n",
    "2. <b>confidence</b>  \n",
    "    Given two items, A and B, confidence measures the percentage of times that item B is purchased, given that \n",
    "    item A was purchased. This is expressed as:\n",
    "       \n",
    "                    confidence{A->B} = support{A,B} / support{A}   \n",
    "                    \n",
    "    Confidence values range from 0 to 1, where 0 indicates that B is never purchased when A is purchased, and 1 \n",
    "    indicates that B is always purchased whenever A is purchased.  Note that the confidence measure is directional.     This means that we can also compute the percentage of times that item A is purchased, given that item B was \n",
    "    purchased:\n",
    "       \n",
    "                    confidence{B->A} = support{A,B} / support{B}    \n",
    "                    \n",
    "    In our example, the percentage of times that egg is purchased, given that apple was purchased is:  \n",
    "       \n",
    "                    confidence{apple->egg} = support{apple,egg} / support{apple}\n",
    "                                           = (3/5) / (4/5)\n",
    "                                           = 0.75 or 75%\n",
    "\n",
    "    A confidence value of 0.75 implies that out of all orders that contain apple, 75% of them also contain egg.  Now, \n",
    "    we look at the confidence measure in the opposite direction (ie: egg->apple): \n",
    "       \n",
    "                    confidence{egg->apple} = support{apple,egg} / support{egg}\n",
    "                                           = (3/5) / (3/5)\n",
    "                                           = 1 or 100%  \n",
    "                                           \n",
    "    Here we see that all of the orders that contain egg also contain apple.  But, does this mean that there is a \n",
    "    relationship between these two items, or are they occurring together in the same orders simply by chance?  To \n",
    "    answer this question, we look at another measure which takes into account the popularity of <i>both</i> items.<br><br><br>  \n",
    "    \n",
    "3. <b>lift</b>  \n",
    "    Given two items, A and B, lift indicates whether there is a relationship between A and B, or whether the two items \n",
    "    are occuring together in the same orders simply by chance (ie: at random).  Unlike the confidence metric whose \n",
    "    value may vary depending on direction (eg: confidence{A->B} may be different from confidence{B->A}), \n",
    "    lift has no direction. This means that the lift{A,B} is always equal to the lift{B,A}: \n",
    "       \n",
    "                    lift{A,B} = lift{B,A} = support{A,B} / (support{A} * support{B})   \n",
    "    \n",
    "    In our example, we compute lift as follows:\n",
    "    \n",
    "         lift{apple,egg} = lift{egg,apple} = support{apple,egg} / (support{apple} * support{egg})\n",
    "                         = (3/5) / (4/5 * 3/5) \n",
    "                         = 1.25    \n",
    "               \n",
    "    One way to understand lift is to think of the denominator as the likelihood that A and B will appear in the same \n",
    "    order if there was <i>no</i> relationship between them. In the example above, if apple occurred in 80% of the\n",
    "    orders and egg occurred in 60% of the orders, then if there was no relationship between them, we would \n",
    "    <i>expect</i> both of them to show up together in the same order 48% of the time (ie: 80% * 60%).  The numerator, \n",
    "    on the other hand, represents how often apple and egg <i>actually</i> appear together in the same order.  In \n",
    "    this example, that is 60% of the time.  Taking the numerator and dividing it by the denominator, we get to how \n",
    "    many more times apple and egg actually appear in the same order, compared to if there was no relationship between     them (ie: that they are occurring together simply at random).  \n",
    "    \n",
    "    In summary, lift can take on the following values:\n",
    "    \n",
    "        * lift = 1 implies no relationship between A and B. \n",
    "          (ie: A and B occur together only by chance)\n",
    "      \n",
    "        * lift > 1 implies that there is a positive relationship between A and B.\n",
    "          (ie:  A and B occur together more often than random)\n",
    "    \n",
    "        * lift < 1 implies that there is a negative relationship between A and B.\n",
    "          (ie:  A and B occur together less often than random)\n",
    "        \n",
    "    In our example, apple and egg occur together 1.25 times <i>more</i> than random, so we conclude that there exists \n",
    "    a positive relationship between them.\n",
    "   \n",
    "Armed with knowledge of apriori and association rules mining, let's dive into the data and code to see what relationships we unravel!"
   ]
  },
  {
   "cell_type": "code",
   "execution_count": 161,
   "metadata": {
    "id": "-ZwDPdHh09TH"
   },
   "outputs": [],
   "source": [
    "# Load in the libraries we will need\n",
    "from mlxtend.frequent_patterns import apriori\n",
    "from mlxtend.frequent_patterns import association_rules"
   ]
  },
  {
   "cell_type": "code",
   "execution_count": 162,
   "metadata": {
    "id": "eQ96Mn_W2Ci-"
   },
   "outputs": [],
   "source": [
    "# Create our basket \n",
    "basket = (data.groupby(['Transaction ID', 'Item'])['Qty']\n",
    "          .sum().unstack().reset_index().fillna(0)\n",
    "          .set_index('Transaction ID'))"
   ]
  },
  {
   "cell_type": "code",
   "execution_count": 163,
   "metadata": {
    "id": "FXWa-N3b4qt5"
   },
   "outputs": [],
   "source": [
    "# Create unit encode function\n",
    "def encode_units(x):\n",
    "    if x <= 0:\n",
    "        return 0\n",
    "    if x >= 1:\n",
    "        return 1\n",
    "\n",
    "basket_sets = basket.applymap(encode_units)"
   ]
  },
  {
   "cell_type": "code",
   "execution_count": 165,
   "metadata": {
    "colab": {
     "base_uri": "https://localhost:8080/",
     "height": 335
    },
    "id": "dHVoOMlw4t4o",
    "outputId": "d8753eb8-7c40-4d27-81b5-cdc2ef0ec233"
   },
   "outputs": [
    {
     "data": {
      "text/html": [
       "<div>\n",
       "<style scoped>\n",
       "    .dataframe tbody tr th:only-of-type {\n",
       "        vertical-align: middle;\n",
       "    }\n",
       "\n",
       "    .dataframe tbody tr th {\n",
       "        vertical-align: top;\n",
       "    }\n",
       "\n",
       "    .dataframe thead th {\n",
       "        text-align: right;\n",
       "    }\n",
       "</style>\n",
       "<table border=\"1\" class=\"dataframe\">\n",
       "  <thead>\n",
       "    <tr style=\"text-align: right;\">\n",
       "      <th>Item</th>\n",
       "      <th>almond butter bars</th>\n",
       "      <th>almond danish</th>\n",
       "      <th>almond filled cookies</th>\n",
       "      <th>almond sticks / rings</th>\n",
       "      <th>anna's dips</th>\n",
       "      <th>apple turnover</th>\n",
       "      <th>artisan swiss bread</th>\n",
       "      <th>assorted frozen cakes</th>\n",
       "      <th>assorted pastries</th>\n",
       "      <th>assorted squares</th>\n",
       "      <th>authentic country bread</th>\n",
       "      <th>bacon/onion</th>\n",
       "      <th>baguettes</th>\n",
       "      <th>baguettes filled</th>\n",
       "      <th>baked sausage roll</th>\n",
       "      <th>banana eclair</th>\n",
       "      <th>bananna cream tart</th>\n",
       "      <th>benanna cream cup</th>\n",
       "      <th>berliner bollen</th>\n",
       "      <th>bienenstich torte</th>\n",
       "      <th>black forest cake</th>\n",
       "      <th>blueberry mousse</th>\n",
       "      <th>bokke pootjes</th>\n",
       "      <th>bosse bol</th>\n",
       "      <th>bread crumbs</th>\n",
       "      <th>butter cookies</th>\n",
       "      <th>butterfly cookies</th>\n",
       "      <th>challah</th>\n",
       "      <th>cheese bread</th>\n",
       "      <th>cheese sourdough</th>\n",
       "      <th>chocolate cream puff</th>\n",
       "      <th>chocolate eclair</th>\n",
       "      <th>chocolate rocks</th>\n",
       "      <th>chocolate sourdough</th>\n",
       "      <th>ciabatta</th>\n",
       "      <th>ciabatta buns</th>\n",
       "      <th>cinnamon bun</th>\n",
       "      <th>coarse sugar</th>\n",
       "      <th>coconut cream cup</th>\n",
       "      <th>coconut loonie</th>\n",
       "      <th>...</th>\n",
       "      <th>roasted garlic bread</th>\n",
       "      <th>roasted garlic sourdough</th>\n",
       "      <th>rosemary &amp; olive oil</th>\n",
       "      <th>rosemary &amp; olive oil sourdough</th>\n",
       "      <th>rosemary sea salt ciabatta bread</th>\n",
       "      <th>rye bread</th>\n",
       "      <th>sandwich bread</th>\n",
       "      <th>sausage rolls</th>\n",
       "      <th>serious coconut tart</th>\n",
       "      <th>shortbread cookies</th>\n",
       "      <th>soft white dinner buns</th>\n",
       "      <th>soup</th>\n",
       "      <th>sourdough</th>\n",
       "      <th>sourdough plain</th>\n",
       "      <th>sourdough starter</th>\n",
       "      <th>specialty bread</th>\n",
       "      <th>specialty sourdough</th>\n",
       "      <th>spinach dip</th>\n",
       "      <th>squares</th>\n",
       "      <th>stollen</th>\n",
       "      <th>strawberry delite</th>\n",
       "      <th>strawberry extravaganza</th>\n",
       "      <th>strawberry torte</th>\n",
       "      <th>sugar butterfly</th>\n",
       "      <th>sunflower flax sourdough</th>\n",
       "      <th>sunflower sourdough</th>\n",
       "      <th>swiss</th>\n",
       "      <th>swiss white</th>\n",
       "      <th>tart</th>\n",
       "      <th>tiger log</th>\n",
       "      <th>tiger pastry</th>\n",
       "      <th>trifle</th>\n",
       "      <th>turnover</th>\n",
       "      <th>vanilla slice</th>\n",
       "      <th>victorias</th>\n",
       "      <th>whipping cream</th>\n",
       "      <th>white buns</th>\n",
       "      <th>whole wheat sourdough</th>\n",
       "      <th>whole wheat stone ground</th>\n",
       "      <th>yummy strawberry</th>\n",
       "    </tr>\n",
       "    <tr>\n",
       "      <th>Transaction ID</th>\n",
       "      <th></th>\n",
       "      <th></th>\n",
       "      <th></th>\n",
       "      <th></th>\n",
       "      <th></th>\n",
       "      <th></th>\n",
       "      <th></th>\n",
       "      <th></th>\n",
       "      <th></th>\n",
       "      <th></th>\n",
       "      <th></th>\n",
       "      <th></th>\n",
       "      <th></th>\n",
       "      <th></th>\n",
       "      <th></th>\n",
       "      <th></th>\n",
       "      <th></th>\n",
       "      <th></th>\n",
       "      <th></th>\n",
       "      <th></th>\n",
       "      <th></th>\n",
       "      <th></th>\n",
       "      <th></th>\n",
       "      <th></th>\n",
       "      <th></th>\n",
       "      <th></th>\n",
       "      <th></th>\n",
       "      <th></th>\n",
       "      <th></th>\n",
       "      <th></th>\n",
       "      <th></th>\n",
       "      <th></th>\n",
       "      <th></th>\n",
       "      <th></th>\n",
       "      <th></th>\n",
       "      <th></th>\n",
       "      <th></th>\n",
       "      <th></th>\n",
       "      <th></th>\n",
       "      <th></th>\n",
       "      <th></th>\n",
       "      <th></th>\n",
       "      <th></th>\n",
       "      <th></th>\n",
       "      <th></th>\n",
       "      <th></th>\n",
       "      <th></th>\n",
       "      <th></th>\n",
       "      <th></th>\n",
       "      <th></th>\n",
       "      <th></th>\n",
       "      <th></th>\n",
       "      <th></th>\n",
       "      <th></th>\n",
       "      <th></th>\n",
       "      <th></th>\n",
       "      <th></th>\n",
       "      <th></th>\n",
       "      <th></th>\n",
       "      <th></th>\n",
       "      <th></th>\n",
       "      <th></th>\n",
       "      <th></th>\n",
       "      <th></th>\n",
       "      <th></th>\n",
       "      <th></th>\n",
       "      <th></th>\n",
       "      <th></th>\n",
       "      <th></th>\n",
       "      <th></th>\n",
       "      <th></th>\n",
       "      <th></th>\n",
       "      <th></th>\n",
       "      <th></th>\n",
       "      <th></th>\n",
       "      <th></th>\n",
       "      <th></th>\n",
       "      <th></th>\n",
       "      <th></th>\n",
       "      <th></th>\n",
       "      <th></th>\n",
       "    </tr>\n",
       "  </thead>\n",
       "  <tbody>\n",
       "    <tr>\n",
       "      <th>vFMUfre2nKFXySAFsk0MBWteV</th>\n",
       "      <td>0</td>\n",
       "      <td>0</td>\n",
       "      <td>0</td>\n",
       "      <td>0</td>\n",
       "      <td>0</td>\n",
       "      <td>0</td>\n",
       "      <td>0</td>\n",
       "      <td>0</td>\n",
       "      <td>0</td>\n",
       "      <td>0</td>\n",
       "      <td>0</td>\n",
       "      <td>0</td>\n",
       "      <td>0</td>\n",
       "      <td>0</td>\n",
       "      <td>0</td>\n",
       "      <td>0</td>\n",
       "      <td>0</td>\n",
       "      <td>0</td>\n",
       "      <td>0</td>\n",
       "      <td>0</td>\n",
       "      <td>0</td>\n",
       "      <td>0</td>\n",
       "      <td>0</td>\n",
       "      <td>0</td>\n",
       "      <td>0</td>\n",
       "      <td>0</td>\n",
       "      <td>0</td>\n",
       "      <td>0</td>\n",
       "      <td>0</td>\n",
       "      <td>0</td>\n",
       "      <td>0</td>\n",
       "      <td>0</td>\n",
       "      <td>0</td>\n",
       "      <td>0</td>\n",
       "      <td>1</td>\n",
       "      <td>0</td>\n",
       "      <td>0</td>\n",
       "      <td>0</td>\n",
       "      <td>0</td>\n",
       "      <td>0</td>\n",
       "      <td>...</td>\n",
       "      <td>0</td>\n",
       "      <td>0</td>\n",
       "      <td>0</td>\n",
       "      <td>0</td>\n",
       "      <td>0</td>\n",
       "      <td>0</td>\n",
       "      <td>0</td>\n",
       "      <td>0</td>\n",
       "      <td>0</td>\n",
       "      <td>0</td>\n",
       "      <td>0</td>\n",
       "      <td>0</td>\n",
       "      <td>0</td>\n",
       "      <td>0</td>\n",
       "      <td>0</td>\n",
       "      <td>0</td>\n",
       "      <td>0</td>\n",
       "      <td>0</td>\n",
       "      <td>0</td>\n",
       "      <td>0</td>\n",
       "      <td>0</td>\n",
       "      <td>0</td>\n",
       "      <td>0</td>\n",
       "      <td>0</td>\n",
       "      <td>0</td>\n",
       "      <td>0</td>\n",
       "      <td>0</td>\n",
       "      <td>0</td>\n",
       "      <td>0</td>\n",
       "      <td>0</td>\n",
       "      <td>0</td>\n",
       "      <td>0</td>\n",
       "      <td>0</td>\n",
       "      <td>0</td>\n",
       "      <td>0</td>\n",
       "      <td>0</td>\n",
       "      <td>0</td>\n",
       "      <td>0</td>\n",
       "      <td>0</td>\n",
       "      <td>0</td>\n",
       "    </tr>\n",
       "    <tr>\n",
       "      <th>Pb5PQyPd2SOkOx2TQxP2dNleV</th>\n",
       "      <td>0</td>\n",
       "      <td>0</td>\n",
       "      <td>0</td>\n",
       "      <td>0</td>\n",
       "      <td>0</td>\n",
       "      <td>0</td>\n",
       "      <td>0</td>\n",
       "      <td>0</td>\n",
       "      <td>0</td>\n",
       "      <td>0</td>\n",
       "      <td>0</td>\n",
       "      <td>0</td>\n",
       "      <td>0</td>\n",
       "      <td>0</td>\n",
       "      <td>0</td>\n",
       "      <td>0</td>\n",
       "      <td>0</td>\n",
       "      <td>0</td>\n",
       "      <td>0</td>\n",
       "      <td>0</td>\n",
       "      <td>0</td>\n",
       "      <td>0</td>\n",
       "      <td>0</td>\n",
       "      <td>0</td>\n",
       "      <td>0</td>\n",
       "      <td>0</td>\n",
       "      <td>0</td>\n",
       "      <td>0</td>\n",
       "      <td>0</td>\n",
       "      <td>0</td>\n",
       "      <td>0</td>\n",
       "      <td>0</td>\n",
       "      <td>0</td>\n",
       "      <td>0</td>\n",
       "      <td>0</td>\n",
       "      <td>0</td>\n",
       "      <td>0</td>\n",
       "      <td>0</td>\n",
       "      <td>0</td>\n",
       "      <td>0</td>\n",
       "      <td>...</td>\n",
       "      <td>0</td>\n",
       "      <td>0</td>\n",
       "      <td>0</td>\n",
       "      <td>0</td>\n",
       "      <td>0</td>\n",
       "      <td>0</td>\n",
       "      <td>0</td>\n",
       "      <td>0</td>\n",
       "      <td>0</td>\n",
       "      <td>0</td>\n",
       "      <td>0</td>\n",
       "      <td>0</td>\n",
       "      <td>0</td>\n",
       "      <td>0</td>\n",
       "      <td>0</td>\n",
       "      <td>0</td>\n",
       "      <td>1</td>\n",
       "      <td>0</td>\n",
       "      <td>0</td>\n",
       "      <td>0</td>\n",
       "      <td>0</td>\n",
       "      <td>0</td>\n",
       "      <td>0</td>\n",
       "      <td>0</td>\n",
       "      <td>0</td>\n",
       "      <td>0</td>\n",
       "      <td>0</td>\n",
       "      <td>0</td>\n",
       "      <td>0</td>\n",
       "      <td>0</td>\n",
       "      <td>0</td>\n",
       "      <td>0</td>\n",
       "      <td>0</td>\n",
       "      <td>0</td>\n",
       "      <td>0</td>\n",
       "      <td>0</td>\n",
       "      <td>0</td>\n",
       "      <td>0</td>\n",
       "      <td>0</td>\n",
       "      <td>0</td>\n",
       "    </tr>\n",
       "    <tr>\n",
       "      <th>BsYNOYiaSmFS2SKgRFoNYdweV</th>\n",
       "      <td>0</td>\n",
       "      <td>0</td>\n",
       "      <td>0</td>\n",
       "      <td>0</td>\n",
       "      <td>0</td>\n",
       "      <td>0</td>\n",
       "      <td>0</td>\n",
       "      <td>0</td>\n",
       "      <td>0</td>\n",
       "      <td>0</td>\n",
       "      <td>0</td>\n",
       "      <td>0</td>\n",
       "      <td>0</td>\n",
       "      <td>0</td>\n",
       "      <td>0</td>\n",
       "      <td>0</td>\n",
       "      <td>0</td>\n",
       "      <td>0</td>\n",
       "      <td>0</td>\n",
       "      <td>0</td>\n",
       "      <td>0</td>\n",
       "      <td>0</td>\n",
       "      <td>0</td>\n",
       "      <td>0</td>\n",
       "      <td>0</td>\n",
       "      <td>0</td>\n",
       "      <td>0</td>\n",
       "      <td>0</td>\n",
       "      <td>0</td>\n",
       "      <td>0</td>\n",
       "      <td>0</td>\n",
       "      <td>1</td>\n",
       "      <td>0</td>\n",
       "      <td>0</td>\n",
       "      <td>0</td>\n",
       "      <td>0</td>\n",
       "      <td>0</td>\n",
       "      <td>0</td>\n",
       "      <td>0</td>\n",
       "      <td>0</td>\n",
       "      <td>...</td>\n",
       "      <td>1</td>\n",
       "      <td>0</td>\n",
       "      <td>0</td>\n",
       "      <td>0</td>\n",
       "      <td>0</td>\n",
       "      <td>0</td>\n",
       "      <td>0</td>\n",
       "      <td>0</td>\n",
       "      <td>0</td>\n",
       "      <td>0</td>\n",
       "      <td>0</td>\n",
       "      <td>0</td>\n",
       "      <td>0</td>\n",
       "      <td>0</td>\n",
       "      <td>0</td>\n",
       "      <td>0</td>\n",
       "      <td>0</td>\n",
       "      <td>0</td>\n",
       "      <td>0</td>\n",
       "      <td>0</td>\n",
       "      <td>0</td>\n",
       "      <td>0</td>\n",
       "      <td>0</td>\n",
       "      <td>0</td>\n",
       "      <td>0</td>\n",
       "      <td>0</td>\n",
       "      <td>0</td>\n",
       "      <td>0</td>\n",
       "      <td>0</td>\n",
       "      <td>0</td>\n",
       "      <td>0</td>\n",
       "      <td>0</td>\n",
       "      <td>1</td>\n",
       "      <td>1</td>\n",
       "      <td>0</td>\n",
       "      <td>0</td>\n",
       "      <td>0</td>\n",
       "      <td>0</td>\n",
       "      <td>0</td>\n",
       "      <td>0</td>\n",
       "    </tr>\n",
       "    <tr>\n",
       "      <th>py9N9RS2trm0qvdwL1ceea8eV</th>\n",
       "      <td>0</td>\n",
       "      <td>0</td>\n",
       "      <td>0</td>\n",
       "      <td>0</td>\n",
       "      <td>0</td>\n",
       "      <td>0</td>\n",
       "      <td>0</td>\n",
       "      <td>0</td>\n",
       "      <td>0</td>\n",
       "      <td>0</td>\n",
       "      <td>0</td>\n",
       "      <td>0</td>\n",
       "      <td>0</td>\n",
       "      <td>0</td>\n",
       "      <td>0</td>\n",
       "      <td>0</td>\n",
       "      <td>0</td>\n",
       "      <td>0</td>\n",
       "      <td>0</td>\n",
       "      <td>0</td>\n",
       "      <td>0</td>\n",
       "      <td>0</td>\n",
       "      <td>0</td>\n",
       "      <td>0</td>\n",
       "      <td>0</td>\n",
       "      <td>0</td>\n",
       "      <td>0</td>\n",
       "      <td>0</td>\n",
       "      <td>0</td>\n",
       "      <td>0</td>\n",
       "      <td>0</td>\n",
       "      <td>0</td>\n",
       "      <td>0</td>\n",
       "      <td>0</td>\n",
       "      <td>0</td>\n",
       "      <td>0</td>\n",
       "      <td>0</td>\n",
       "      <td>0</td>\n",
       "      <td>0</td>\n",
       "      <td>0</td>\n",
       "      <td>...</td>\n",
       "      <td>0</td>\n",
       "      <td>0</td>\n",
       "      <td>0</td>\n",
       "      <td>0</td>\n",
       "      <td>0</td>\n",
       "      <td>0</td>\n",
       "      <td>0</td>\n",
       "      <td>0</td>\n",
       "      <td>0</td>\n",
       "      <td>0</td>\n",
       "      <td>0</td>\n",
       "      <td>0</td>\n",
       "      <td>0</td>\n",
       "      <td>0</td>\n",
       "      <td>0</td>\n",
       "      <td>0</td>\n",
       "      <td>0</td>\n",
       "      <td>0</td>\n",
       "      <td>0</td>\n",
       "      <td>0</td>\n",
       "      <td>0</td>\n",
       "      <td>0</td>\n",
       "      <td>0</td>\n",
       "      <td>0</td>\n",
       "      <td>0</td>\n",
       "      <td>0</td>\n",
       "      <td>0</td>\n",
       "      <td>0</td>\n",
       "      <td>0</td>\n",
       "      <td>0</td>\n",
       "      <td>0</td>\n",
       "      <td>0</td>\n",
       "      <td>0</td>\n",
       "      <td>0</td>\n",
       "      <td>0</td>\n",
       "      <td>0</td>\n",
       "      <td>0</td>\n",
       "      <td>0</td>\n",
       "      <td>0</td>\n",
       "      <td>0</td>\n",
       "    </tr>\n",
       "    <tr>\n",
       "      <th>DhA48uHknvi1UbA1aqzJK09eV</th>\n",
       "      <td>0</td>\n",
       "      <td>0</td>\n",
       "      <td>0</td>\n",
       "      <td>0</td>\n",
       "      <td>0</td>\n",
       "      <td>0</td>\n",
       "      <td>0</td>\n",
       "      <td>0</td>\n",
       "      <td>0</td>\n",
       "      <td>0</td>\n",
       "      <td>1</td>\n",
       "      <td>0</td>\n",
       "      <td>0</td>\n",
       "      <td>0</td>\n",
       "      <td>0</td>\n",
       "      <td>0</td>\n",
       "      <td>0</td>\n",
       "      <td>0</td>\n",
       "      <td>0</td>\n",
       "      <td>0</td>\n",
       "      <td>0</td>\n",
       "      <td>0</td>\n",
       "      <td>0</td>\n",
       "      <td>0</td>\n",
       "      <td>0</td>\n",
       "      <td>0</td>\n",
       "      <td>0</td>\n",
       "      <td>0</td>\n",
       "      <td>0</td>\n",
       "      <td>0</td>\n",
       "      <td>0</td>\n",
       "      <td>0</td>\n",
       "      <td>0</td>\n",
       "      <td>0</td>\n",
       "      <td>0</td>\n",
       "      <td>0</td>\n",
       "      <td>0</td>\n",
       "      <td>0</td>\n",
       "      <td>0</td>\n",
       "      <td>0</td>\n",
       "      <td>...</td>\n",
       "      <td>0</td>\n",
       "      <td>0</td>\n",
       "      <td>0</td>\n",
       "      <td>0</td>\n",
       "      <td>0</td>\n",
       "      <td>0</td>\n",
       "      <td>0</td>\n",
       "      <td>0</td>\n",
       "      <td>0</td>\n",
       "      <td>0</td>\n",
       "      <td>0</td>\n",
       "      <td>0</td>\n",
       "      <td>0</td>\n",
       "      <td>0</td>\n",
       "      <td>0</td>\n",
       "      <td>0</td>\n",
       "      <td>0</td>\n",
       "      <td>0</td>\n",
       "      <td>0</td>\n",
       "      <td>0</td>\n",
       "      <td>0</td>\n",
       "      <td>0</td>\n",
       "      <td>0</td>\n",
       "      <td>0</td>\n",
       "      <td>1</td>\n",
       "      <td>0</td>\n",
       "      <td>0</td>\n",
       "      <td>0</td>\n",
       "      <td>0</td>\n",
       "      <td>0</td>\n",
       "      <td>0</td>\n",
       "      <td>0</td>\n",
       "      <td>0</td>\n",
       "      <td>0</td>\n",
       "      <td>0</td>\n",
       "      <td>0</td>\n",
       "      <td>0</td>\n",
       "      <td>0</td>\n",
       "      <td>0</td>\n",
       "      <td>0</td>\n",
       "    </tr>\n",
       "  </tbody>\n",
       "</table>\n",
       "<p>5 rows × 146 columns</p>\n",
       "</div>"
      ],
      "text/plain": [
       "Item                       almond butter bars  ...  yummy strawberry\n",
       "Transaction ID                                 ...                  \n",
       "vFMUfre2nKFXySAFsk0MBWteV                   0  ...                 0\n",
       "Pb5PQyPd2SOkOx2TQxP2dNleV                   0  ...                 0\n",
       "BsYNOYiaSmFS2SKgRFoNYdweV                   0  ...                 0\n",
       "py9N9RS2trm0qvdwL1ceea8eV                   0  ...                 0\n",
       "DhA48uHknvi1UbA1aqzJK09eV                   0  ...                 0\n",
       "\n",
       "[5 rows x 146 columns]"
      ]
     },
     "execution_count": 165,
     "metadata": {
      "tags": []
     },
     "output_type": "execute_result"
    }
   ],
   "source": [
    "# Debug our basket set\n",
    "basket_sets.sample(5)"
   ]
  },
  {
   "cell_type": "markdown",
   "metadata": {
    "id": "eIcq_nhv45LV"
   },
   "source": [
    "Each row contains a unique transaction were each column is an item where there is a 1 if that item was purchased in that transacion and a 0 if not. "
   ]
  },
  {
   "cell_type": "code",
   "execution_count": 166,
   "metadata": {
    "colab": {
     "base_uri": "https://localhost:8080/",
     "height": 419
    },
    "id": "44lpOv_q4zpu",
    "outputId": "eda914f5-69dd-4281-c104-160c09d24264"
   },
   "outputs": [
    {
     "data": {
      "text/html": [
       "<div>\n",
       "<style scoped>\n",
       "    .dataframe tbody tr th:only-of-type {\n",
       "        vertical-align: middle;\n",
       "    }\n",
       "\n",
       "    .dataframe tbody tr th {\n",
       "        vertical-align: top;\n",
       "    }\n",
       "\n",
       "    .dataframe thead th {\n",
       "        text-align: right;\n",
       "    }\n",
       "</style>\n",
       "<table border=\"1\" class=\"dataframe\">\n",
       "  <thead>\n",
       "    <tr style=\"text-align: right;\">\n",
       "      <th></th>\n",
       "      <th>support</th>\n",
       "      <th>itemsets</th>\n",
       "    </tr>\n",
       "  </thead>\n",
       "  <tbody>\n",
       "    <tr>\n",
       "      <th>60</th>\n",
       "      <td>0.136303</td>\n",
       "      <td>(vanilla slice)</td>\n",
       "    </tr>\n",
       "    <tr>\n",
       "      <th>59</th>\n",
       "      <td>0.111518</td>\n",
       "      <td>(turnover)</td>\n",
       "    </tr>\n",
       "    <tr>\n",
       "      <th>33</th>\n",
       "      <td>0.072523</td>\n",
       "      <td>(new yorker)</td>\n",
       "    </tr>\n",
       "    <tr>\n",
       "      <th>40</th>\n",
       "      <td>0.066656</td>\n",
       "      <td>(rasberry mousse)</td>\n",
       "    </tr>\n",
       "    <tr>\n",
       "      <th>39</th>\n",
       "      <td>0.066037</td>\n",
       "      <td>(raisin buns)</td>\n",
       "    </tr>\n",
       "    <tr>\n",
       "      <th>...</th>\n",
       "      <td>...</td>\n",
       "      <td>...</td>\n",
       "    </tr>\n",
       "    <tr>\n",
       "      <th>79</th>\n",
       "      <td>0.010351</td>\n",
       "      <td>(victorias, rasberry mousse)</td>\n",
       "    </tr>\n",
       "    <tr>\n",
       "      <th>75</th>\n",
       "      <td>0.010296</td>\n",
       "      <td>(mocha puff, vanilla slice)</td>\n",
       "    </tr>\n",
       "    <tr>\n",
       "      <th>43</th>\n",
       "      <td>0.010254</td>\n",
       "      <td>(rosemary &amp; olive oil)</td>\n",
       "    </tr>\n",
       "    <tr>\n",
       "      <th>69</th>\n",
       "      <td>0.010096</td>\n",
       "      <td>(chocolate cream puff, victorias)</td>\n",
       "    </tr>\n",
       "    <tr>\n",
       "      <th>37</th>\n",
       "      <td>0.010029</td>\n",
       "      <td>(pumpkin spice puff)</td>\n",
       "    </tr>\n",
       "  </tbody>\n",
       "</table>\n",
       "<p>82 rows × 2 columns</p>\n",
       "</div>"
      ],
      "text/plain": [
       "     support                           itemsets\n",
       "60  0.136303                    (vanilla slice)\n",
       "59  0.111518                         (turnover)\n",
       "33  0.072523                       (new yorker)\n",
       "40  0.066656                  (rasberry mousse)\n",
       "39  0.066037                      (raisin buns)\n",
       "..       ...                                ...\n",
       "79  0.010351       (victorias, rasberry mousse)\n",
       "75  0.010296        (mocha puff, vanilla slice)\n",
       "43  0.010254             (rosemary & olive oil)\n",
       "69  0.010096  (chocolate cream puff, victorias)\n",
       "37  0.010029               (pumpkin spice puff)\n",
       "\n",
       "[82 rows x 2 columns]"
      ]
     },
     "execution_count": 166,
     "metadata": {
      "tags": []
     },
     "output_type": "execute_result"
    }
   ],
   "source": [
    "# Generate frequent item sets that have a support of at least 1% :\n",
    "frequent_itemsets = apriori(basket_sets, min_support=0.01, use_colnames=True)\n",
    "frequent_itemsets.sort_values(by='support',ascending=False) "
   ]
  },
  {
   "cell_type": "code",
   "execution_count": 167,
   "metadata": {
    "colab": {
     "base_uri": "https://localhost:8080/",
     "height": 204
    },
    "id": "StGesSpp5LJh",
    "outputId": "c72b935c-578a-4097-cac3-9775eff2aa26"
   },
   "outputs": [
    {
     "data": {
      "text/html": [
       "<div>\n",
       "<style scoped>\n",
       "    .dataframe tbody tr th:only-of-type {\n",
       "        vertical-align: middle;\n",
       "    }\n",
       "\n",
       "    .dataframe tbody tr th {\n",
       "        vertical-align: top;\n",
       "    }\n",
       "\n",
       "    .dataframe thead th {\n",
       "        text-align: right;\n",
       "    }\n",
       "</style>\n",
       "<table border=\"1\" class=\"dataframe\">\n",
       "  <thead>\n",
       "    <tr style=\"text-align: right;\">\n",
       "      <th></th>\n",
       "      <th>antecedents</th>\n",
       "      <th>consequents</th>\n",
       "      <th>antecedent support</th>\n",
       "      <th>consequent support</th>\n",
       "      <th>support</th>\n",
       "      <th>confidence</th>\n",
       "      <th>lift</th>\n",
       "      <th>leverage</th>\n",
       "      <th>conviction</th>\n",
       "    </tr>\n",
       "  </thead>\n",
       "  <tbody>\n",
       "    <tr>\n",
       "      <th>0</th>\n",
       "      <td>(banana eclair)</td>\n",
       "      <td>(chocolate eclair)</td>\n",
       "      <td>0.047192</td>\n",
       "      <td>0.062833</td>\n",
       "      <td>0.012584</td>\n",
       "      <td>0.266650</td>\n",
       "      <td>4.243760</td>\n",
       "      <td>0.009618</td>\n",
       "      <td>1.277925</td>\n",
       "    </tr>\n",
       "    <tr>\n",
       "      <th>1</th>\n",
       "      <td>(chocolate eclair)</td>\n",
       "      <td>(banana eclair)</td>\n",
       "      <td>0.062833</td>\n",
       "      <td>0.047192</td>\n",
       "      <td>0.012584</td>\n",
       "      <td>0.200270</td>\n",
       "      <td>4.243760</td>\n",
       "      <td>0.009618</td>\n",
       "      <td>1.191413</td>\n",
       "    </tr>\n",
       "    <tr>\n",
       "      <th>2</th>\n",
       "      <td>(banana eclair)</td>\n",
       "      <td>(vanilla slice)</td>\n",
       "      <td>0.047192</td>\n",
       "      <td>0.136303</td>\n",
       "      <td>0.014501</td>\n",
       "      <td>0.307277</td>\n",
       "      <td>2.254372</td>\n",
       "      <td>0.008069</td>\n",
       "      <td>1.246815</td>\n",
       "    </tr>\n",
       "    <tr>\n",
       "      <th>3</th>\n",
       "      <td>(vanilla slice)</td>\n",
       "      <td>(banana eclair)</td>\n",
       "      <td>0.136303</td>\n",
       "      <td>0.047192</td>\n",
       "      <td>0.014501</td>\n",
       "      <td>0.106388</td>\n",
       "      <td>2.254372</td>\n",
       "      <td>0.008069</td>\n",
       "      <td>1.066243</td>\n",
       "    </tr>\n",
       "    <tr>\n",
       "      <th>4</th>\n",
       "      <td>(chocolate cream puff)</td>\n",
       "      <td>(chocolate eclair)</td>\n",
       "      <td>0.058726</td>\n",
       "      <td>0.062833</td>\n",
       "      <td>0.012863</td>\n",
       "      <td>0.219031</td>\n",
       "      <td>3.485903</td>\n",
       "      <td>0.009173</td>\n",
       "      <td>1.200005</td>\n",
       "    </tr>\n",
       "  </tbody>\n",
       "</table>\n",
       "</div>"
      ],
      "text/plain": [
       "              antecedents         consequents  ...  leverage  conviction\n",
       "0         (banana eclair)  (chocolate eclair)  ...  0.009618    1.277925\n",
       "1      (chocolate eclair)     (banana eclair)  ...  0.009618    1.191413\n",
       "2         (banana eclair)     (vanilla slice)  ...  0.008069    1.246815\n",
       "3         (vanilla slice)     (banana eclair)  ...  0.008069    1.066243\n",
       "4  (chocolate cream puff)  (chocolate eclair)  ...  0.009173    1.200005\n",
       "\n",
       "[5 rows x 9 columns]"
      ]
     },
     "execution_count": 167,
     "metadata": {
      "tags": []
     },
     "output_type": "execute_result"
    }
   ],
   "source": [
    "# The final step is to generate the rules with their corresponding support, confidence and lift:\n",
    "rules = association_rules(frequent_itemsets, metric=\"lift\", min_threshold=1)\n",
    "rules.head()"
   ]
  },
  {
   "cell_type": "markdown",
   "metadata": {
    "id": "_QXzXpse5nA5"
   },
   "source": [
    "# Conclusion"
   ]
  },
  {
   "cell_type": "markdown",
   "metadata": {
    "id": "MEPqMPRR5o9b"
   },
   "source": [
    "We have found that there are items that do occur together not by chance as indicated by the lift metric. These item relationships should be investigated by the person with best domain knowledge as to understand the nature of the relationship and how to best take advantage of them."
   ]
  }
 ],
 "metadata": {
  "colab": {
   "name": "Final.ipynb",
   "provenance": []
  },
  "kernelspec": {
   "display_name": "Python 3",
   "language": "python",
   "name": "python3"
  },
  "language_info": {
   "codemirror_mode": {
    "name": "ipython",
    "version": 3
   },
   "file_extension": ".py",
   "mimetype": "text/x-python",
   "name": "python",
   "nbconvert_exporter": "python",
   "pygments_lexer": "ipython3",
   "version": "3.8.5"
  }
 },
 "nbformat": 4,
 "nbformat_minor": 1
}
